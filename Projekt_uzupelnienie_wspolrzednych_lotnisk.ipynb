{
  "nbformat": 4,
  "nbformat_minor": 0,
  "metadata": {
    "colab": {
      "provenance": [],
      "toc_visible": true,
      "gpuType": "T4"
    },
    "kernelspec": {
      "name": "python3",
      "display_name": "Python 3"
    },
    "language_info": {
      "name": "python"
    },
    "accelerator": "GPU"
  },
  "cells": [
    {
      "cell_type": "code",
      "execution_count": null,
      "metadata": {
        "id": "QVleE57ICCmj"
      },
      "outputs": [],
      "source": [
        "import pandas as pd\n",
        "import numpy as np\n",
        "\n",
        "import seaborn as sns\n",
        "import matplotlib.pyplot as plt\n",
        "\n",
        "pd.set_option('display.max_columns', None)"
      ]
    },
    {
      "cell_type": "code",
      "source": [
        "from google.colab import drive\n",
        "drive.mount('/content/drive')"
      ],
      "metadata": {
        "colab": {
          "base_uri": "https://localhost:8080/"
        },
        "id": "1OUy-O7ZCM0C",
        "outputId": "c42e6ef7-ee6e-4c0a-af6c-d6c7ae1a1473"
      },
      "execution_count": null,
      "outputs": [
        {
          "output_type": "stream",
          "name": "stdout",
          "text": [
            "Drive already mounted at /content/drive; to attempt to forcibly remount, call drive.mount(\"/content/drive\", force_remount=True).\n"
          ]
        }
      ]
    },
    {
      "cell_type": "markdown",
      "source": [
        "W późniejszych etapach projektu będziemy pracować na DataFrame z wybranymi kolumnami.\n",
        "Na tą chwilę wczytujemy jeszcze pełne dane.\n",
        "Zbiory danych można pobrać pod linkiem:<br>\n",
        "https://www.kaggle.com/datasets/usdot/flight-delays"
      ],
      "metadata": {
        "id": "gXdx9zdFt0OR"
      }
    },
    {
      "cell_type": "code",
      "source": [
        "# czy wczytać wszystkie kolumny , czy tylko wybrane (dotyczy lotów)\n",
        "ALL_COLS = True"
      ],
      "metadata": {
        "id": "NdONnqO2HmpQ"
      },
      "execution_count": null,
      "outputs": []
    },
    {
      "cell_type": "markdown",
      "source": [
        "# Wczytanie danych"
      ],
      "metadata": {
        "id": "ZqDrZisEHhR5"
      }
    },
    {
      "cell_type": "markdown",
      "source": [
        "## Lotniska"
      ],
      "metadata": {
        "id": "hccUL9tXz0L-"
      }
    },
    {
      "cell_type": "markdown",
      "source": [
        "W pliku 'airports.csv' zapisane są m.in. współrzędne lotnisk."
      ],
      "metadata": {
        "id": "w6kC0ZaXuN1s"
      }
    },
    {
      "cell_type": "code",
      "source": [
        "df_airports = pd.read_csv('/content/drive/MyDrive/airports.csv')\n",
        "df_airports.head()"
      ],
      "metadata": {
        "colab": {
          "base_uri": "https://localhost:8080/",
          "height": 206
        },
        "id": "VjgUtaW8CPJx",
        "outputId": "f5137b56-3f3a-43fc-b50f-48bed61a8227"
      },
      "execution_count": null,
      "outputs": [
        {
          "output_type": "execute_result",
          "data": {
            "text/plain": [
              "  IATA_CODE                              AIRPORT         CITY STATE COUNTRY  \\\n",
              "0       ABE  Lehigh Valley International Airport    Allentown    PA     USA   \n",
              "1       ABI             Abilene Regional Airport      Abilene    TX     USA   \n",
              "2       ABQ    Albuquerque International Sunport  Albuquerque    NM     USA   \n",
              "3       ABR            Aberdeen Regional Airport     Aberdeen    SD     USA   \n",
              "4       ABY   Southwest Georgia Regional Airport       Albany    GA     USA   \n",
              "\n",
              "   LATITUDE  LONGITUDE  \n",
              "0  40.65236  -75.44040  \n",
              "1  32.41132  -99.68190  \n",
              "2  35.04022 -106.60919  \n",
              "3  45.44906  -98.42183  \n",
              "4  31.53552  -84.19447  "
            ],
            "text/html": [
              "\n",
              "  <div id=\"df-32e254ee-74b2-4a9e-b203-9fbc75405daf\">\n",
              "    <div class=\"colab-df-container\">\n",
              "      <div>\n",
              "<style scoped>\n",
              "    .dataframe tbody tr th:only-of-type {\n",
              "        vertical-align: middle;\n",
              "    }\n",
              "\n",
              "    .dataframe tbody tr th {\n",
              "        vertical-align: top;\n",
              "    }\n",
              "\n",
              "    .dataframe thead th {\n",
              "        text-align: right;\n",
              "    }\n",
              "</style>\n",
              "<table border=\"1\" class=\"dataframe\">\n",
              "  <thead>\n",
              "    <tr style=\"text-align: right;\">\n",
              "      <th></th>\n",
              "      <th>IATA_CODE</th>\n",
              "      <th>AIRPORT</th>\n",
              "      <th>CITY</th>\n",
              "      <th>STATE</th>\n",
              "      <th>COUNTRY</th>\n",
              "      <th>LATITUDE</th>\n",
              "      <th>LONGITUDE</th>\n",
              "    </tr>\n",
              "  </thead>\n",
              "  <tbody>\n",
              "    <tr>\n",
              "      <th>0</th>\n",
              "      <td>ABE</td>\n",
              "      <td>Lehigh Valley International Airport</td>\n",
              "      <td>Allentown</td>\n",
              "      <td>PA</td>\n",
              "      <td>USA</td>\n",
              "      <td>40.65236</td>\n",
              "      <td>-75.44040</td>\n",
              "    </tr>\n",
              "    <tr>\n",
              "      <th>1</th>\n",
              "      <td>ABI</td>\n",
              "      <td>Abilene Regional Airport</td>\n",
              "      <td>Abilene</td>\n",
              "      <td>TX</td>\n",
              "      <td>USA</td>\n",
              "      <td>32.41132</td>\n",
              "      <td>-99.68190</td>\n",
              "    </tr>\n",
              "    <tr>\n",
              "      <th>2</th>\n",
              "      <td>ABQ</td>\n",
              "      <td>Albuquerque International Sunport</td>\n",
              "      <td>Albuquerque</td>\n",
              "      <td>NM</td>\n",
              "      <td>USA</td>\n",
              "      <td>35.04022</td>\n",
              "      <td>-106.60919</td>\n",
              "    </tr>\n",
              "    <tr>\n",
              "      <th>3</th>\n",
              "      <td>ABR</td>\n",
              "      <td>Aberdeen Regional Airport</td>\n",
              "      <td>Aberdeen</td>\n",
              "      <td>SD</td>\n",
              "      <td>USA</td>\n",
              "      <td>45.44906</td>\n",
              "      <td>-98.42183</td>\n",
              "    </tr>\n",
              "    <tr>\n",
              "      <th>4</th>\n",
              "      <td>ABY</td>\n",
              "      <td>Southwest Georgia Regional Airport</td>\n",
              "      <td>Albany</td>\n",
              "      <td>GA</td>\n",
              "      <td>USA</td>\n",
              "      <td>31.53552</td>\n",
              "      <td>-84.19447</td>\n",
              "    </tr>\n",
              "  </tbody>\n",
              "</table>\n",
              "</div>\n",
              "      <button class=\"colab-df-convert\" onclick=\"convertToInteractive('df-32e254ee-74b2-4a9e-b203-9fbc75405daf')\"\n",
              "              title=\"Convert this dataframe to an interactive table.\"\n",
              "              style=\"display:none;\">\n",
              "        \n",
              "  <svg xmlns=\"http://www.w3.org/2000/svg\" height=\"24px\"viewBox=\"0 0 24 24\"\n",
              "       width=\"24px\">\n",
              "    <path d=\"M0 0h24v24H0V0z\" fill=\"none\"/>\n",
              "    <path d=\"M18.56 5.44l.94 2.06.94-2.06 2.06-.94-2.06-.94-.94-2.06-.94 2.06-2.06.94zm-11 1L8.5 8.5l.94-2.06 2.06-.94-2.06-.94L8.5 2.5l-.94 2.06-2.06.94zm10 10l.94 2.06.94-2.06 2.06-.94-2.06-.94-.94-2.06-.94 2.06-2.06.94z\"/><path d=\"M17.41 7.96l-1.37-1.37c-.4-.4-.92-.59-1.43-.59-.52 0-1.04.2-1.43.59L10.3 9.45l-7.72 7.72c-.78.78-.78 2.05 0 2.83L4 21.41c.39.39.9.59 1.41.59.51 0 1.02-.2 1.41-.59l7.78-7.78 2.81-2.81c.8-.78.8-2.07 0-2.86zM5.41 20L4 18.59l7.72-7.72 1.47 1.35L5.41 20z\"/>\n",
              "  </svg>\n",
              "      </button>\n",
              "      \n",
              "  <style>\n",
              "    .colab-df-container {\n",
              "      display:flex;\n",
              "      flex-wrap:wrap;\n",
              "      gap: 12px;\n",
              "    }\n",
              "\n",
              "    .colab-df-convert {\n",
              "      background-color: #E8F0FE;\n",
              "      border: none;\n",
              "      border-radius: 50%;\n",
              "      cursor: pointer;\n",
              "      display: none;\n",
              "      fill: #1967D2;\n",
              "      height: 32px;\n",
              "      padding: 0 0 0 0;\n",
              "      width: 32px;\n",
              "    }\n",
              "\n",
              "    .colab-df-convert:hover {\n",
              "      background-color: #E2EBFA;\n",
              "      box-shadow: 0px 1px 2px rgba(60, 64, 67, 0.3), 0px 1px 3px 1px rgba(60, 64, 67, 0.15);\n",
              "      fill: #174EA6;\n",
              "    }\n",
              "\n",
              "    [theme=dark] .colab-df-convert {\n",
              "      background-color: #3B4455;\n",
              "      fill: #D2E3FC;\n",
              "    }\n",
              "\n",
              "    [theme=dark] .colab-df-convert:hover {\n",
              "      background-color: #434B5C;\n",
              "      box-shadow: 0px 1px 3px 1px rgba(0, 0, 0, 0.15);\n",
              "      filter: drop-shadow(0px 1px 2px rgba(0, 0, 0, 0.3));\n",
              "      fill: #FFFFFF;\n",
              "    }\n",
              "  </style>\n",
              "\n",
              "      <script>\n",
              "        const buttonEl =\n",
              "          document.querySelector('#df-32e254ee-74b2-4a9e-b203-9fbc75405daf button.colab-df-convert');\n",
              "        buttonEl.style.display =\n",
              "          google.colab.kernel.accessAllowed ? 'block' : 'none';\n",
              "\n",
              "        async function convertToInteractive(key) {\n",
              "          const element = document.querySelector('#df-32e254ee-74b2-4a9e-b203-9fbc75405daf');\n",
              "          const dataTable =\n",
              "            await google.colab.kernel.invokeFunction('convertToInteractive',\n",
              "                                                     [key], {});\n",
              "          if (!dataTable) return;\n",
              "\n",
              "          const docLinkHtml = 'Like what you see? Visit the ' +\n",
              "            '<a target=\"_blank\" href=https://colab.research.google.com/notebooks/data_table.ipynb>data table notebook</a>'\n",
              "            + ' to learn more about interactive tables.';\n",
              "          element.innerHTML = '';\n",
              "          dataTable['output_type'] = 'display_data';\n",
              "          await google.colab.output.renderOutput(dataTable, element);\n",
              "          const docLink = document.createElement('div');\n",
              "          docLink.innerHTML = docLinkHtml;\n",
              "          element.appendChild(docLink);\n",
              "        }\n",
              "      </script>\n",
              "    </div>\n",
              "  </div>\n",
              "  "
            ]
          },
          "metadata": {},
          "execution_count": 4
        }
      ]
    },
    {
      "cell_type": "code",
      "source": [
        "df_airports.shape"
      ],
      "metadata": {
        "colab": {
          "base_uri": "https://localhost:8080/"
        },
        "id": "UqFZmr84IY1W",
        "outputId": "02fc4a53-6a10-4a8c-ce09-67d86c43f446"
      },
      "execution_count": null,
      "outputs": [
        {
          "output_type": "execute_result",
          "data": {
            "text/plain": [
              "(322, 7)"
            ]
          },
          "metadata": {},
          "execution_count": 5
        }
      ]
    },
    {
      "cell_type": "code",
      "source": [
        "df_airports.info(show_counts=True)"
      ],
      "metadata": {
        "colab": {
          "base_uri": "https://localhost:8080/"
        },
        "id": "3zK2LDlkrPB8",
        "outputId": "16af8bdc-428a-421d-e4a6-152611cfb06b"
      },
      "execution_count": null,
      "outputs": [
        {
          "output_type": "stream",
          "name": "stdout",
          "text": [
            "<class 'pandas.core.frame.DataFrame'>\n",
            "RangeIndex: 322 entries, 0 to 321\n",
            "Data columns (total 7 columns):\n",
            " #   Column     Non-Null Count  Dtype  \n",
            "---  ------     --------------  -----  \n",
            " 0   IATA_CODE  322 non-null    object \n",
            " 1   AIRPORT    322 non-null    object \n",
            " 2   CITY       322 non-null    object \n",
            " 3   STATE      322 non-null    object \n",
            " 4   COUNTRY    322 non-null    object \n",
            " 5   LATITUDE   319 non-null    float64\n",
            " 6   LONGITUDE  319 non-null    float64\n",
            "dtypes: float64(2), object(5)\n",
            "memory usage: 17.7+ KB\n"
          ]
        }
      ]
    },
    {
      "cell_type": "markdown",
      "source": [
        "### Lotniska bez współrzędnych"
      ],
      "metadata": {
        "id": "FLx4HqnY8Tdh"
      }
    },
    {
      "cell_type": "code",
      "source": [
        "# mamy 322 unikalne kody lotnisk\n",
        "df_airports['IATA_CODE'].value_counts()"
      ],
      "metadata": {
        "colab": {
          "base_uri": "https://localhost:8080/"
        },
        "id": "51J6J99G1ifG",
        "outputId": "d3a0b74a-b164-4d73-b4e9-3c5621b0a8b0"
      },
      "execution_count": null,
      "outputs": [
        {
          "output_type": "execute_result",
          "data": {
            "text/plain": [
              "ABE    1\n",
              "PIB    1\n",
              "MVY    1\n",
              "MTJ    1\n",
              "MSY    1\n",
              "      ..\n",
              "EWR    1\n",
              "EWN    1\n",
              "EVV    1\n",
              "EUG    1\n",
              "YUM    1\n",
              "Name: IATA_CODE, Length: 322, dtype: int64"
            ]
          },
          "metadata": {},
          "execution_count": 7
        }
      ]
    },
    {
      "cell_type": "code",
      "source": [
        "df_airports[df_airports['LATITUDE'].isna()]"
      ],
      "metadata": {
        "colab": {
          "base_uri": "https://localhost:8080/",
          "height": 143
        },
        "id": "NBJ8wYrg6UIQ",
        "outputId": "ed600794-baf1-466e-8374-fc43905cbc9e"
      },
      "execution_count": null,
      "outputs": [
        {
          "output_type": "execute_result",
          "data": {
            "text/plain": [
              "    IATA_CODE                                            AIRPORT  \\\n",
              "96        ECP    Northwest Florida Beaches International Airport   \n",
              "234       PBG                  Plattsburgh International Airport   \n",
              "313       UST  Northeast Florida Regional Airport (St. August...   \n",
              "\n",
              "              CITY STATE COUNTRY  LATITUDE  LONGITUDE  \n",
              "96     Panama City    FL     USA       NaN        NaN  \n",
              "234    Plattsburgh    NY     USA       NaN        NaN  \n",
              "313  St. Augustine    FL     USA       NaN        NaN  "
            ],
            "text/html": [
              "\n",
              "  <div id=\"df-766ae43a-92c8-412a-ab88-4ba088a7a71e\">\n",
              "    <div class=\"colab-df-container\">\n",
              "      <div>\n",
              "<style scoped>\n",
              "    .dataframe tbody tr th:only-of-type {\n",
              "        vertical-align: middle;\n",
              "    }\n",
              "\n",
              "    .dataframe tbody tr th {\n",
              "        vertical-align: top;\n",
              "    }\n",
              "\n",
              "    .dataframe thead th {\n",
              "        text-align: right;\n",
              "    }\n",
              "</style>\n",
              "<table border=\"1\" class=\"dataframe\">\n",
              "  <thead>\n",
              "    <tr style=\"text-align: right;\">\n",
              "      <th></th>\n",
              "      <th>IATA_CODE</th>\n",
              "      <th>AIRPORT</th>\n",
              "      <th>CITY</th>\n",
              "      <th>STATE</th>\n",
              "      <th>COUNTRY</th>\n",
              "      <th>LATITUDE</th>\n",
              "      <th>LONGITUDE</th>\n",
              "    </tr>\n",
              "  </thead>\n",
              "  <tbody>\n",
              "    <tr>\n",
              "      <th>96</th>\n",
              "      <td>ECP</td>\n",
              "      <td>Northwest Florida Beaches International Airport</td>\n",
              "      <td>Panama City</td>\n",
              "      <td>FL</td>\n",
              "      <td>USA</td>\n",
              "      <td>NaN</td>\n",
              "      <td>NaN</td>\n",
              "    </tr>\n",
              "    <tr>\n",
              "      <th>234</th>\n",
              "      <td>PBG</td>\n",
              "      <td>Plattsburgh International Airport</td>\n",
              "      <td>Plattsburgh</td>\n",
              "      <td>NY</td>\n",
              "      <td>USA</td>\n",
              "      <td>NaN</td>\n",
              "      <td>NaN</td>\n",
              "    </tr>\n",
              "    <tr>\n",
              "      <th>313</th>\n",
              "      <td>UST</td>\n",
              "      <td>Northeast Florida Regional Airport (St. August...</td>\n",
              "      <td>St. Augustine</td>\n",
              "      <td>FL</td>\n",
              "      <td>USA</td>\n",
              "      <td>NaN</td>\n",
              "      <td>NaN</td>\n",
              "    </tr>\n",
              "  </tbody>\n",
              "</table>\n",
              "</div>\n",
              "      <button class=\"colab-df-convert\" onclick=\"convertToInteractive('df-766ae43a-92c8-412a-ab88-4ba088a7a71e')\"\n",
              "              title=\"Convert this dataframe to an interactive table.\"\n",
              "              style=\"display:none;\">\n",
              "        \n",
              "  <svg xmlns=\"http://www.w3.org/2000/svg\" height=\"24px\"viewBox=\"0 0 24 24\"\n",
              "       width=\"24px\">\n",
              "    <path d=\"M0 0h24v24H0V0z\" fill=\"none\"/>\n",
              "    <path d=\"M18.56 5.44l.94 2.06.94-2.06 2.06-.94-2.06-.94-.94-2.06-.94 2.06-2.06.94zm-11 1L8.5 8.5l.94-2.06 2.06-.94-2.06-.94L8.5 2.5l-.94 2.06-2.06.94zm10 10l.94 2.06.94-2.06 2.06-.94-2.06-.94-.94-2.06-.94 2.06-2.06.94z\"/><path d=\"M17.41 7.96l-1.37-1.37c-.4-.4-.92-.59-1.43-.59-.52 0-1.04.2-1.43.59L10.3 9.45l-7.72 7.72c-.78.78-.78 2.05 0 2.83L4 21.41c.39.39.9.59 1.41.59.51 0 1.02-.2 1.41-.59l7.78-7.78 2.81-2.81c.8-.78.8-2.07 0-2.86zM5.41 20L4 18.59l7.72-7.72 1.47 1.35L5.41 20z\"/>\n",
              "  </svg>\n",
              "      </button>\n",
              "      \n",
              "  <style>\n",
              "    .colab-df-container {\n",
              "      display:flex;\n",
              "      flex-wrap:wrap;\n",
              "      gap: 12px;\n",
              "    }\n",
              "\n",
              "    .colab-df-convert {\n",
              "      background-color: #E8F0FE;\n",
              "      border: none;\n",
              "      border-radius: 50%;\n",
              "      cursor: pointer;\n",
              "      display: none;\n",
              "      fill: #1967D2;\n",
              "      height: 32px;\n",
              "      padding: 0 0 0 0;\n",
              "      width: 32px;\n",
              "    }\n",
              "\n",
              "    .colab-df-convert:hover {\n",
              "      background-color: #E2EBFA;\n",
              "      box-shadow: 0px 1px 2px rgba(60, 64, 67, 0.3), 0px 1px 3px 1px rgba(60, 64, 67, 0.15);\n",
              "      fill: #174EA6;\n",
              "    }\n",
              "\n",
              "    [theme=dark] .colab-df-convert {\n",
              "      background-color: #3B4455;\n",
              "      fill: #D2E3FC;\n",
              "    }\n",
              "\n",
              "    [theme=dark] .colab-df-convert:hover {\n",
              "      background-color: #434B5C;\n",
              "      box-shadow: 0px 1px 3px 1px rgba(0, 0, 0, 0.15);\n",
              "      filter: drop-shadow(0px 1px 2px rgba(0, 0, 0, 0.3));\n",
              "      fill: #FFFFFF;\n",
              "    }\n",
              "  </style>\n",
              "\n",
              "      <script>\n",
              "        const buttonEl =\n",
              "          document.querySelector('#df-766ae43a-92c8-412a-ab88-4ba088a7a71e button.colab-df-convert');\n",
              "        buttonEl.style.display =\n",
              "          google.colab.kernel.accessAllowed ? 'block' : 'none';\n",
              "\n",
              "        async function convertToInteractive(key) {\n",
              "          const element = document.querySelector('#df-766ae43a-92c8-412a-ab88-4ba088a7a71e');\n",
              "          const dataTable =\n",
              "            await google.colab.kernel.invokeFunction('convertToInteractive',\n",
              "                                                     [key], {});\n",
              "          if (!dataTable) return;\n",
              "\n",
              "          const docLinkHtml = 'Like what you see? Visit the ' +\n",
              "            '<a target=\"_blank\" href=https://colab.research.google.com/notebooks/data_table.ipynb>data table notebook</a>'\n",
              "            + ' to learn more about interactive tables.';\n",
              "          element.innerHTML = '';\n",
              "          dataTable['output_type'] = 'display_data';\n",
              "          await google.colab.output.renderOutput(dataTable, element);\n",
              "          const docLink = document.createElement('div');\n",
              "          docLink.innerHTML = docLinkHtml;\n",
              "          element.appendChild(docLink);\n",
              "        }\n",
              "      </script>\n",
              "    </div>\n",
              "  </div>\n",
              "  "
            ]
          },
          "metadata": {},
          "execution_count": 8
        }
      ]
    },
    {
      "cell_type": "code",
      "source": [
        "# lotniska bez współrzędnych - lista symboli\n",
        "airports_Nan = df_airports[df_airports['LATITUDE'].isna()]['IATA_CODE'].tolist()\n",
        "airports_Nan"
      ],
      "metadata": {
        "colab": {
          "base_uri": "https://localhost:8080/"
        },
        "id": "ogeh-vyI6ouC",
        "outputId": "e21ca5d8-2954-478d-def3-302876d1c099"
      },
      "execution_count": null,
      "outputs": [
        {
          "output_type": "execute_result",
          "data": {
            "text/plain": [
              "['ECP', 'PBG', 'UST']"
            ]
          },
          "metadata": {},
          "execution_count": 9
        }
      ]
    },
    {
      "cell_type": "markdown",
      "source": [
        "### Usunięcie bez wsp. (NaN)"
      ],
      "metadata": {
        "id": "R1661XiAz4jD"
      }
    },
    {
      "cell_type": "code",
      "source": [
        "#df_airports.dropna(axis=0, how='any', inplace=True)\n",
        "df_airports.shape"
      ],
      "metadata": {
        "id": "8-RdFQuNzVhq",
        "colab": {
          "base_uri": "https://localhost:8080/"
        },
        "outputId": "f37960c7-c03b-4450-9f2c-5ea56ae6e26e"
      },
      "execution_count": null,
      "outputs": [
        {
          "output_type": "execute_result",
          "data": {
            "text/plain": [
              "(322, 7)"
            ]
          },
          "metadata": {},
          "execution_count": 10
        }
      ]
    },
    {
      "cell_type": "code",
      "source": [
        "df_airports.info(show_counts=True)"
      ],
      "metadata": {
        "colab": {
          "base_uri": "https://localhost:8080/"
        },
        "id": "MULv0-TrztqW",
        "outputId": "844cdf2f-26e9-46bc-ddd7-1ad5411de7da"
      },
      "execution_count": null,
      "outputs": [
        {
          "output_type": "stream",
          "name": "stdout",
          "text": [
            "<class 'pandas.core.frame.DataFrame'>\n",
            "RangeIndex: 322 entries, 0 to 321\n",
            "Data columns (total 7 columns):\n",
            " #   Column     Non-Null Count  Dtype  \n",
            "---  ------     --------------  -----  \n",
            " 0   IATA_CODE  322 non-null    object \n",
            " 1   AIRPORT    322 non-null    object \n",
            " 2   CITY       322 non-null    object \n",
            " 3   STATE      322 non-null    object \n",
            " 4   COUNTRY    322 non-null    object \n",
            " 5   LATITUDE   319 non-null    float64\n",
            " 6   LONGITUDE  319 non-null    float64\n",
            "dtypes: float64(2), object(5)\n",
            "memory usage: 17.7+ KB\n"
          ]
        }
      ]
    },
    {
      "cell_type": "markdown",
      "source": [
        "## Loty"
      ],
      "metadata": {
        "id": "XOjnie21z8Tp"
      }
    },
    {
      "cell_type": "code",
      "source": [
        "if ALL_COLS:\n",
        "  df_flights = pd.read_csv('/content/drive/MyDrive/flights.csv')\n",
        "else:\n",
        "  df_flights = pd.read_csv('/content/drive/MyDrive/flights.csv',\n",
        "                   usecols=['MONTH', 'DAY', 'DAY_OF_WEEK', 'AIRLINE',\n",
        "                            'ORIGIN_AIRPORT', 'DESTINATION_AIRPORT',\n",
        "                            'SCHEDULED_DEPARTURE', 'DISTANCE',\n",
        "                            'ARRIVAL_DELAY', 'CANCELLED', 'DIVERTED'])"
      ],
      "metadata": {
        "colab": {
          "base_uri": "https://localhost:8080/"
        },
        "id": "Y-xsqxw0HGv8",
        "outputId": "d7460927-36b3-44da-e867-5df2b4507c64"
      },
      "execution_count": null,
      "outputs": [
        {
          "output_type": "stream",
          "name": "stderr",
          "text": [
            "<ipython-input-12-1037f7f2fed4>:2: DtypeWarning: Columns (7,8) have mixed types. Specify dtype option on import or set low_memory=False.\n",
            "  df_flights = pd.read_csv('/content/drive/MyDrive/flights.csv')\n"
          ]
        }
      ]
    },
    {
      "cell_type": "code",
      "source": [
        "df_flights.info()"
      ],
      "metadata": {
        "colab": {
          "base_uri": "https://localhost:8080/"
        },
        "id": "yM8VFTwqrS83",
        "outputId": "c8ca6ca2-0846-4e21-804a-ca79626fde65"
      },
      "execution_count": null,
      "outputs": [
        {
          "output_type": "stream",
          "name": "stdout",
          "text": [
            "<class 'pandas.core.frame.DataFrame'>\n",
            "RangeIndex: 5819079 entries, 0 to 5819078\n",
            "Data columns (total 31 columns):\n",
            " #   Column               Dtype  \n",
            "---  ------               -----  \n",
            " 0   YEAR                 int64  \n",
            " 1   MONTH                int64  \n",
            " 2   DAY                  int64  \n",
            " 3   DAY_OF_WEEK          int64  \n",
            " 4   AIRLINE              object \n",
            " 5   FLIGHT_NUMBER        int64  \n",
            " 6   TAIL_NUMBER          object \n",
            " 7   ORIGIN_AIRPORT       object \n",
            " 8   DESTINATION_AIRPORT  object \n",
            " 9   SCHEDULED_DEPARTURE  int64  \n",
            " 10  DEPARTURE_TIME       float64\n",
            " 11  DEPARTURE_DELAY      float64\n",
            " 12  TAXI_OUT             float64\n",
            " 13  WHEELS_OFF           float64\n",
            " 14  SCHEDULED_TIME       float64\n",
            " 15  ELAPSED_TIME         float64\n",
            " 16  AIR_TIME             float64\n",
            " 17  DISTANCE             int64  \n",
            " 18  WHEELS_ON            float64\n",
            " 19  TAXI_IN              float64\n",
            " 20  SCHEDULED_ARRIVAL    int64  \n",
            " 21  ARRIVAL_TIME         float64\n",
            " 22  ARRIVAL_DELAY        float64\n",
            " 23  DIVERTED             int64  \n",
            " 24  CANCELLED            int64  \n",
            " 25  CANCELLATION_REASON  object \n",
            " 26  AIR_SYSTEM_DELAY     float64\n",
            " 27  SECURITY_DELAY       float64\n",
            " 28  AIRLINE_DELAY        float64\n",
            " 29  LATE_AIRCRAFT_DELAY  float64\n",
            " 30  WEATHER_DELAY        float64\n",
            "dtypes: float64(16), int64(10), object(5)\n",
            "memory usage: 1.3+ GB\n"
          ]
        }
      ]
    },
    {
      "cell_type": "code",
      "source": [
        "df_flights['ORIGIN_AIRPORT'].value_counts()"
      ],
      "metadata": {
        "colab": {
          "base_uri": "https://localhost:8080/"
        },
        "id": "jIiVWc6JuqYl",
        "outputId": "526f21dc-bc27-4f76-8ee8-f980b6ca2c23"
      },
      "execution_count": null,
      "outputs": [
        {
          "output_type": "execute_result",
          "data": {
            "text/plain": [
              "ATL      346836\n",
              "ORD      285884\n",
              "DFW      239551\n",
              "DEN      196055\n",
              "LAX      194673\n",
              "          ...  \n",
              "11503         1\n",
              "14222         1\n",
              "13964         1\n",
              "13459         1\n",
              "12265         1\n",
              "Name: ORIGIN_AIRPORT, Length: 930, dtype: int64"
            ]
          },
          "metadata": {},
          "execution_count": 14
        }
      ]
    },
    {
      "cell_type": "markdown",
      "source": [
        "W kolumnach ORIGIN_AIRPORT i DESTINATION_AIRPORT dane przedstawione są w postaci int oraz str - wybieramy jeden typ str"
      ],
      "metadata": {
        "id": "6-gY26hjuzTQ"
      }
    },
    {
      "cell_type": "code",
      "source": [
        "# zmiana typu kolumn 7 i 8 na string\n",
        "df_flights['ORIGIN_AIRPORT'] = df_flights['ORIGIN_AIRPORT'].astype(str)\n",
        "df_flights['DESTINATION_AIRPORT'] = df_flights['DESTINATION_AIRPORT'].astype(str)"
      ],
      "metadata": {
        "id": "UnRWfbzwHIs5"
      },
      "execution_count": null,
      "outputs": []
    },
    {
      "cell_type": "code",
      "source": [
        "df_flights.head()"
      ],
      "metadata": {
        "colab": {
          "base_uri": "https://localhost:8080/",
          "height": 270
        },
        "id": "asxjmm8OMGZT",
        "outputId": "0799c37e-3be7-4a11-f01a-36fe6979cd41"
      },
      "execution_count": null,
      "outputs": [
        {
          "output_type": "execute_result",
          "data": {
            "text/plain": [
              "   YEAR  MONTH  DAY  DAY_OF_WEEK AIRLINE  FLIGHT_NUMBER TAIL_NUMBER  \\\n",
              "0  2015      1    1            4      AS             98      N407AS   \n",
              "1  2015      1    1            4      AA           2336      N3KUAA   \n",
              "2  2015      1    1            4      US            840      N171US   \n",
              "3  2015      1    1            4      AA            258      N3HYAA   \n",
              "4  2015      1    1            4      AS            135      N527AS   \n",
              "\n",
              "  ORIGIN_AIRPORT DESTINATION_AIRPORT  SCHEDULED_DEPARTURE  DEPARTURE_TIME  \\\n",
              "0            ANC                 SEA                    5          2354.0   \n",
              "1            LAX                 PBI                   10             2.0   \n",
              "2            SFO                 CLT                   20            18.0   \n",
              "3            LAX                 MIA                   20            15.0   \n",
              "4            SEA                 ANC                   25            24.0   \n",
              "\n",
              "   DEPARTURE_DELAY  TAXI_OUT  WHEELS_OFF  SCHEDULED_TIME  ELAPSED_TIME  \\\n",
              "0            -11.0      21.0        15.0           205.0         194.0   \n",
              "1             -8.0      12.0        14.0           280.0         279.0   \n",
              "2             -2.0      16.0        34.0           286.0         293.0   \n",
              "3             -5.0      15.0        30.0           285.0         281.0   \n",
              "4             -1.0      11.0        35.0           235.0         215.0   \n",
              "\n",
              "   AIR_TIME  DISTANCE  WHEELS_ON  TAXI_IN  SCHEDULED_ARRIVAL  ARRIVAL_TIME  \\\n",
              "0     169.0      1448      404.0      4.0                430         408.0   \n",
              "1     263.0      2330      737.0      4.0                750         741.0   \n",
              "2     266.0      2296      800.0     11.0                806         811.0   \n",
              "3     258.0      2342      748.0      8.0                805         756.0   \n",
              "4     199.0      1448      254.0      5.0                320         259.0   \n",
              "\n",
              "   ARRIVAL_DELAY  DIVERTED  CANCELLED CANCELLATION_REASON  AIR_SYSTEM_DELAY  \\\n",
              "0          -22.0         0          0                 NaN               NaN   \n",
              "1           -9.0         0          0                 NaN               NaN   \n",
              "2            5.0         0          0                 NaN               NaN   \n",
              "3           -9.0         0          0                 NaN               NaN   \n",
              "4          -21.0         0          0                 NaN               NaN   \n",
              "\n",
              "   SECURITY_DELAY  AIRLINE_DELAY  LATE_AIRCRAFT_DELAY  WEATHER_DELAY  \n",
              "0             NaN            NaN                  NaN            NaN  \n",
              "1             NaN            NaN                  NaN            NaN  \n",
              "2             NaN            NaN                  NaN            NaN  \n",
              "3             NaN            NaN                  NaN            NaN  \n",
              "4             NaN            NaN                  NaN            NaN  "
            ],
            "text/html": [
              "\n",
              "  <div id=\"df-1c4aecb3-fb7a-48ee-84f4-cd2b6e4e524a\">\n",
              "    <div class=\"colab-df-container\">\n",
              "      <div>\n",
              "<style scoped>\n",
              "    .dataframe tbody tr th:only-of-type {\n",
              "        vertical-align: middle;\n",
              "    }\n",
              "\n",
              "    .dataframe tbody tr th {\n",
              "        vertical-align: top;\n",
              "    }\n",
              "\n",
              "    .dataframe thead th {\n",
              "        text-align: right;\n",
              "    }\n",
              "</style>\n",
              "<table border=\"1\" class=\"dataframe\">\n",
              "  <thead>\n",
              "    <tr style=\"text-align: right;\">\n",
              "      <th></th>\n",
              "      <th>YEAR</th>\n",
              "      <th>MONTH</th>\n",
              "      <th>DAY</th>\n",
              "      <th>DAY_OF_WEEK</th>\n",
              "      <th>AIRLINE</th>\n",
              "      <th>FLIGHT_NUMBER</th>\n",
              "      <th>TAIL_NUMBER</th>\n",
              "      <th>ORIGIN_AIRPORT</th>\n",
              "      <th>DESTINATION_AIRPORT</th>\n",
              "      <th>SCHEDULED_DEPARTURE</th>\n",
              "      <th>DEPARTURE_TIME</th>\n",
              "      <th>DEPARTURE_DELAY</th>\n",
              "      <th>TAXI_OUT</th>\n",
              "      <th>WHEELS_OFF</th>\n",
              "      <th>SCHEDULED_TIME</th>\n",
              "      <th>ELAPSED_TIME</th>\n",
              "      <th>AIR_TIME</th>\n",
              "      <th>DISTANCE</th>\n",
              "      <th>WHEELS_ON</th>\n",
              "      <th>TAXI_IN</th>\n",
              "      <th>SCHEDULED_ARRIVAL</th>\n",
              "      <th>ARRIVAL_TIME</th>\n",
              "      <th>ARRIVAL_DELAY</th>\n",
              "      <th>DIVERTED</th>\n",
              "      <th>CANCELLED</th>\n",
              "      <th>CANCELLATION_REASON</th>\n",
              "      <th>AIR_SYSTEM_DELAY</th>\n",
              "      <th>SECURITY_DELAY</th>\n",
              "      <th>AIRLINE_DELAY</th>\n",
              "      <th>LATE_AIRCRAFT_DELAY</th>\n",
              "      <th>WEATHER_DELAY</th>\n",
              "    </tr>\n",
              "  </thead>\n",
              "  <tbody>\n",
              "    <tr>\n",
              "      <th>0</th>\n",
              "      <td>2015</td>\n",
              "      <td>1</td>\n",
              "      <td>1</td>\n",
              "      <td>4</td>\n",
              "      <td>AS</td>\n",
              "      <td>98</td>\n",
              "      <td>N407AS</td>\n",
              "      <td>ANC</td>\n",
              "      <td>SEA</td>\n",
              "      <td>5</td>\n",
              "      <td>2354.0</td>\n",
              "      <td>-11.0</td>\n",
              "      <td>21.0</td>\n",
              "      <td>15.0</td>\n",
              "      <td>205.0</td>\n",
              "      <td>194.0</td>\n",
              "      <td>169.0</td>\n",
              "      <td>1448</td>\n",
              "      <td>404.0</td>\n",
              "      <td>4.0</td>\n",
              "      <td>430</td>\n",
              "      <td>408.0</td>\n",
              "      <td>-22.0</td>\n",
              "      <td>0</td>\n",
              "      <td>0</td>\n",
              "      <td>NaN</td>\n",
              "      <td>NaN</td>\n",
              "      <td>NaN</td>\n",
              "      <td>NaN</td>\n",
              "      <td>NaN</td>\n",
              "      <td>NaN</td>\n",
              "    </tr>\n",
              "    <tr>\n",
              "      <th>1</th>\n",
              "      <td>2015</td>\n",
              "      <td>1</td>\n",
              "      <td>1</td>\n",
              "      <td>4</td>\n",
              "      <td>AA</td>\n",
              "      <td>2336</td>\n",
              "      <td>N3KUAA</td>\n",
              "      <td>LAX</td>\n",
              "      <td>PBI</td>\n",
              "      <td>10</td>\n",
              "      <td>2.0</td>\n",
              "      <td>-8.0</td>\n",
              "      <td>12.0</td>\n",
              "      <td>14.0</td>\n",
              "      <td>280.0</td>\n",
              "      <td>279.0</td>\n",
              "      <td>263.0</td>\n",
              "      <td>2330</td>\n",
              "      <td>737.0</td>\n",
              "      <td>4.0</td>\n",
              "      <td>750</td>\n",
              "      <td>741.0</td>\n",
              "      <td>-9.0</td>\n",
              "      <td>0</td>\n",
              "      <td>0</td>\n",
              "      <td>NaN</td>\n",
              "      <td>NaN</td>\n",
              "      <td>NaN</td>\n",
              "      <td>NaN</td>\n",
              "      <td>NaN</td>\n",
              "      <td>NaN</td>\n",
              "    </tr>\n",
              "    <tr>\n",
              "      <th>2</th>\n",
              "      <td>2015</td>\n",
              "      <td>1</td>\n",
              "      <td>1</td>\n",
              "      <td>4</td>\n",
              "      <td>US</td>\n",
              "      <td>840</td>\n",
              "      <td>N171US</td>\n",
              "      <td>SFO</td>\n",
              "      <td>CLT</td>\n",
              "      <td>20</td>\n",
              "      <td>18.0</td>\n",
              "      <td>-2.0</td>\n",
              "      <td>16.0</td>\n",
              "      <td>34.0</td>\n",
              "      <td>286.0</td>\n",
              "      <td>293.0</td>\n",
              "      <td>266.0</td>\n",
              "      <td>2296</td>\n",
              "      <td>800.0</td>\n",
              "      <td>11.0</td>\n",
              "      <td>806</td>\n",
              "      <td>811.0</td>\n",
              "      <td>5.0</td>\n",
              "      <td>0</td>\n",
              "      <td>0</td>\n",
              "      <td>NaN</td>\n",
              "      <td>NaN</td>\n",
              "      <td>NaN</td>\n",
              "      <td>NaN</td>\n",
              "      <td>NaN</td>\n",
              "      <td>NaN</td>\n",
              "    </tr>\n",
              "    <tr>\n",
              "      <th>3</th>\n",
              "      <td>2015</td>\n",
              "      <td>1</td>\n",
              "      <td>1</td>\n",
              "      <td>4</td>\n",
              "      <td>AA</td>\n",
              "      <td>258</td>\n",
              "      <td>N3HYAA</td>\n",
              "      <td>LAX</td>\n",
              "      <td>MIA</td>\n",
              "      <td>20</td>\n",
              "      <td>15.0</td>\n",
              "      <td>-5.0</td>\n",
              "      <td>15.0</td>\n",
              "      <td>30.0</td>\n",
              "      <td>285.0</td>\n",
              "      <td>281.0</td>\n",
              "      <td>258.0</td>\n",
              "      <td>2342</td>\n",
              "      <td>748.0</td>\n",
              "      <td>8.0</td>\n",
              "      <td>805</td>\n",
              "      <td>756.0</td>\n",
              "      <td>-9.0</td>\n",
              "      <td>0</td>\n",
              "      <td>0</td>\n",
              "      <td>NaN</td>\n",
              "      <td>NaN</td>\n",
              "      <td>NaN</td>\n",
              "      <td>NaN</td>\n",
              "      <td>NaN</td>\n",
              "      <td>NaN</td>\n",
              "    </tr>\n",
              "    <tr>\n",
              "      <th>4</th>\n",
              "      <td>2015</td>\n",
              "      <td>1</td>\n",
              "      <td>1</td>\n",
              "      <td>4</td>\n",
              "      <td>AS</td>\n",
              "      <td>135</td>\n",
              "      <td>N527AS</td>\n",
              "      <td>SEA</td>\n",
              "      <td>ANC</td>\n",
              "      <td>25</td>\n",
              "      <td>24.0</td>\n",
              "      <td>-1.0</td>\n",
              "      <td>11.0</td>\n",
              "      <td>35.0</td>\n",
              "      <td>235.0</td>\n",
              "      <td>215.0</td>\n",
              "      <td>199.0</td>\n",
              "      <td>1448</td>\n",
              "      <td>254.0</td>\n",
              "      <td>5.0</td>\n",
              "      <td>320</td>\n",
              "      <td>259.0</td>\n",
              "      <td>-21.0</td>\n",
              "      <td>0</td>\n",
              "      <td>0</td>\n",
              "      <td>NaN</td>\n",
              "      <td>NaN</td>\n",
              "      <td>NaN</td>\n",
              "      <td>NaN</td>\n",
              "      <td>NaN</td>\n",
              "      <td>NaN</td>\n",
              "    </tr>\n",
              "  </tbody>\n",
              "</table>\n",
              "</div>\n",
              "      <button class=\"colab-df-convert\" onclick=\"convertToInteractive('df-1c4aecb3-fb7a-48ee-84f4-cd2b6e4e524a')\"\n",
              "              title=\"Convert this dataframe to an interactive table.\"\n",
              "              style=\"display:none;\">\n",
              "        \n",
              "  <svg xmlns=\"http://www.w3.org/2000/svg\" height=\"24px\"viewBox=\"0 0 24 24\"\n",
              "       width=\"24px\">\n",
              "    <path d=\"M0 0h24v24H0V0z\" fill=\"none\"/>\n",
              "    <path d=\"M18.56 5.44l.94 2.06.94-2.06 2.06-.94-2.06-.94-.94-2.06-.94 2.06-2.06.94zm-11 1L8.5 8.5l.94-2.06 2.06-.94-2.06-.94L8.5 2.5l-.94 2.06-2.06.94zm10 10l.94 2.06.94-2.06 2.06-.94-2.06-.94-.94-2.06-.94 2.06-2.06.94z\"/><path d=\"M17.41 7.96l-1.37-1.37c-.4-.4-.92-.59-1.43-.59-.52 0-1.04.2-1.43.59L10.3 9.45l-7.72 7.72c-.78.78-.78 2.05 0 2.83L4 21.41c.39.39.9.59 1.41.59.51 0 1.02-.2 1.41-.59l7.78-7.78 2.81-2.81c.8-.78.8-2.07 0-2.86zM5.41 20L4 18.59l7.72-7.72 1.47 1.35L5.41 20z\"/>\n",
              "  </svg>\n",
              "      </button>\n",
              "      \n",
              "  <style>\n",
              "    .colab-df-container {\n",
              "      display:flex;\n",
              "      flex-wrap:wrap;\n",
              "      gap: 12px;\n",
              "    }\n",
              "\n",
              "    .colab-df-convert {\n",
              "      background-color: #E8F0FE;\n",
              "      border: none;\n",
              "      border-radius: 50%;\n",
              "      cursor: pointer;\n",
              "      display: none;\n",
              "      fill: #1967D2;\n",
              "      height: 32px;\n",
              "      padding: 0 0 0 0;\n",
              "      width: 32px;\n",
              "    }\n",
              "\n",
              "    .colab-df-convert:hover {\n",
              "      background-color: #E2EBFA;\n",
              "      box-shadow: 0px 1px 2px rgba(60, 64, 67, 0.3), 0px 1px 3px 1px rgba(60, 64, 67, 0.15);\n",
              "      fill: #174EA6;\n",
              "    }\n",
              "\n",
              "    [theme=dark] .colab-df-convert {\n",
              "      background-color: #3B4455;\n",
              "      fill: #D2E3FC;\n",
              "    }\n",
              "\n",
              "    [theme=dark] .colab-df-convert:hover {\n",
              "      background-color: #434B5C;\n",
              "      box-shadow: 0px 1px 3px 1px rgba(0, 0, 0, 0.15);\n",
              "      filter: drop-shadow(0px 1px 2px rgba(0, 0, 0, 0.3));\n",
              "      fill: #FFFFFF;\n",
              "    }\n",
              "  </style>\n",
              "\n",
              "      <script>\n",
              "        const buttonEl =\n",
              "          document.querySelector('#df-1c4aecb3-fb7a-48ee-84f4-cd2b6e4e524a button.colab-df-convert');\n",
              "        buttonEl.style.display =\n",
              "          google.colab.kernel.accessAllowed ? 'block' : 'none';\n",
              "\n",
              "        async function convertToInteractive(key) {\n",
              "          const element = document.querySelector('#df-1c4aecb3-fb7a-48ee-84f4-cd2b6e4e524a');\n",
              "          const dataTable =\n",
              "            await google.colab.kernel.invokeFunction('convertToInteractive',\n",
              "                                                     [key], {});\n",
              "          if (!dataTable) return;\n",
              "\n",
              "          const docLinkHtml = 'Like what you see? Visit the ' +\n",
              "            '<a target=\"_blank\" href=https://colab.research.google.com/notebooks/data_table.ipynb>data table notebook</a>'\n",
              "            + ' to learn more about interactive tables.';\n",
              "          element.innerHTML = '';\n",
              "          dataTable['output_type'] = 'display_data';\n",
              "          await google.colab.output.renderOutput(dataTable, element);\n",
              "          const docLink = document.createElement('div');\n",
              "          docLink.innerHTML = docLinkHtml;\n",
              "          element.appendChild(docLink);\n",
              "        }\n",
              "      </script>\n",
              "    </div>\n",
              "  </div>\n",
              "  "
            ]
          },
          "metadata": {},
          "execution_count": 16
        }
      ]
    },
    {
      "cell_type": "code",
      "source": [
        "df_flights.shape"
      ],
      "metadata": {
        "colab": {
          "base_uri": "https://localhost:8080/"
        },
        "id": "R_PH4VD5JimY",
        "outputId": "30f3c545-a98c-4a30-a788-27a7fa16281c"
      },
      "execution_count": null,
      "outputs": [
        {
          "output_type": "execute_result",
          "data": {
            "text/plain": [
              "(5819079, 31)"
            ]
          },
          "metadata": {},
          "execution_count": 17
        }
      ]
    },
    {
      "cell_type": "code",
      "source": [
        "df_flights.info(show_counts=True)"
      ],
      "metadata": {
        "colab": {
          "base_uri": "https://localhost:8080/"
        },
        "id": "3R0jYl2_JkME",
        "outputId": "89cb472b-25c3-4efc-8432-70f629c7ad5c"
      },
      "execution_count": null,
      "outputs": [
        {
          "output_type": "stream",
          "name": "stdout",
          "text": [
            "<class 'pandas.core.frame.DataFrame'>\n",
            "RangeIndex: 5819079 entries, 0 to 5819078\n",
            "Data columns (total 31 columns):\n",
            " #   Column               Non-Null Count    Dtype  \n",
            "---  ------               --------------    -----  \n",
            " 0   YEAR                 5819079 non-null  int64  \n",
            " 1   MONTH                5819079 non-null  int64  \n",
            " 2   DAY                  5819079 non-null  int64  \n",
            " 3   DAY_OF_WEEK          5819079 non-null  int64  \n",
            " 4   AIRLINE              5819079 non-null  object \n",
            " 5   FLIGHT_NUMBER        5819079 non-null  int64  \n",
            " 6   TAIL_NUMBER          5804358 non-null  object \n",
            " 7   ORIGIN_AIRPORT       5819079 non-null  object \n",
            " 8   DESTINATION_AIRPORT  5819079 non-null  object \n",
            " 9   SCHEDULED_DEPARTURE  5819079 non-null  int64  \n",
            " 10  DEPARTURE_TIME       5732926 non-null  float64\n",
            " 11  DEPARTURE_DELAY      5732926 non-null  float64\n",
            " 12  TAXI_OUT             5730032 non-null  float64\n",
            " 13  WHEELS_OFF           5730032 non-null  float64\n",
            " 14  SCHEDULED_TIME       5819073 non-null  float64\n",
            " 15  ELAPSED_TIME         5714008 non-null  float64\n",
            " 16  AIR_TIME             5714008 non-null  float64\n",
            " 17  DISTANCE             5819079 non-null  int64  \n",
            " 18  WHEELS_ON            5726566 non-null  float64\n",
            " 19  TAXI_IN              5726566 non-null  float64\n",
            " 20  SCHEDULED_ARRIVAL    5819079 non-null  int64  \n",
            " 21  ARRIVAL_TIME         5726566 non-null  float64\n",
            " 22  ARRIVAL_DELAY        5714008 non-null  float64\n",
            " 23  DIVERTED             5819079 non-null  int64  \n",
            " 24  CANCELLED            5819079 non-null  int64  \n",
            " 25  CANCELLATION_REASON  89884 non-null    object \n",
            " 26  AIR_SYSTEM_DELAY     1063439 non-null  float64\n",
            " 27  SECURITY_DELAY       1063439 non-null  float64\n",
            " 28  AIRLINE_DELAY        1063439 non-null  float64\n",
            " 29  LATE_AIRCRAFT_DELAY  1063439 non-null  float64\n",
            " 30  WEATHER_DELAY        1063439 non-null  float64\n",
            "dtypes: float64(16), int64(10), object(5)\n",
            "memory usage: 1.3+ GB\n"
          ]
        }
      ]
    },
    {
      "cell_type": "markdown",
      "source": [
        "### Wykresy"
      ],
      "metadata": {
        "id": "QpkzK9L8RMeP"
      }
    },
    {
      "cell_type": "markdown",
      "source": [
        "Przedstawiam wykresy dla danych numerycznych"
      ],
      "metadata": {
        "id": "tkPqQcAQv8tE"
      }
    },
    {
      "cell_type": "code",
      "source": [
        "df_list = list(df_flights.select_dtypes(include=np.number).columns) # lista kolumn numerycznych\n",
        "df_list"
      ],
      "metadata": {
        "colab": {
          "base_uri": "https://localhost:8080/"
        },
        "id": "-Z6kTi29ElWn",
        "outputId": "3c592a67-b2f4-4c87-9d4d-224c41d7583e"
      },
      "execution_count": null,
      "outputs": [
        {
          "output_type": "execute_result",
          "data": {
            "text/plain": [
              "['YEAR',\n",
              " 'MONTH',\n",
              " 'DAY',\n",
              " 'DAY_OF_WEEK',\n",
              " 'FLIGHT_NUMBER',\n",
              " 'SCHEDULED_DEPARTURE',\n",
              " 'DEPARTURE_TIME',\n",
              " 'DEPARTURE_DELAY',\n",
              " 'TAXI_OUT',\n",
              " 'WHEELS_OFF',\n",
              " 'SCHEDULED_TIME',\n",
              " 'ELAPSED_TIME',\n",
              " 'AIR_TIME',\n",
              " 'DISTANCE',\n",
              " 'WHEELS_ON',\n",
              " 'TAXI_IN',\n",
              " 'SCHEDULED_ARRIVAL',\n",
              " 'ARRIVAL_TIME',\n",
              " 'ARRIVAL_DELAY',\n",
              " 'DIVERTED',\n",
              " 'CANCELLED',\n",
              " 'AIR_SYSTEM_DELAY',\n",
              " 'SECURITY_DELAY',\n",
              " 'AIRLINE_DELAY',\n",
              " 'LATE_AIRCRAFT_DELAY',\n",
              " 'WEATHER_DELAY']"
            ]
          },
          "metadata": {},
          "execution_count": 19
        }
      ]
    },
    {
      "cell_type": "code",
      "source": [
        "len(df_list)"
      ],
      "metadata": {
        "colab": {
          "base_uri": "https://localhost:8080/"
        },
        "id": "DAwiGqG-K46z",
        "outputId": "fa74b91f-2dc9-4fd5-e785-918584c087e5"
      },
      "execution_count": null,
      "outputs": [
        {
          "output_type": "execute_result",
          "data": {
            "text/plain": [
              "26"
            ]
          },
          "metadata": {},
          "execution_count": 20
        }
      ]
    },
    {
      "cell_type": "code",
      "source": [
        "df_list.remove('ARRIVAL_DELAY')"
      ],
      "metadata": {
        "id": "nBPHP_SpLHjx"
      },
      "execution_count": null,
      "outputs": []
    },
    {
      "cell_type": "code",
      "source": [
        "# rozmiar czcionki do wykresów\n",
        "plt.rc('font', size=6)\n",
        "plt.rc('axes', titlesize=6)\n",
        "plt.rc('axes', labelsize=6)\n",
        "plt.rc('xtick', labelsize=7)\n",
        "plt.rc('ytick', labelsize=7)\n",
        "plt.rc('legend', fontsize=6)\n",
        "plt.rc('figure', titlesize=6)"
      ],
      "metadata": {
        "id": "k6IOt-7fYqoW"
      },
      "execution_count": null,
      "outputs": []
    },
    {
      "cell_type": "code",
      "source": [
        "nrow=5  # ilość wierszy - do wykresów\n",
        "ncol=5  # ilość kolumn"
      ],
      "metadata": {
        "id": "0-_b0uw8FWcD"
      },
      "execution_count": null,
      "outputs": []
    },
    {
      "cell_type": "code",
      "source": [
        "# histogramy wszystkich zmiennych numerycznych\n",
        "\n",
        "fig, axes = plt.subplots(nrows=nrow, ncols=ncol)\n",
        "fig.tight_layout()\n",
        "\n",
        "count=0\n",
        "for r in range(nrow):\n",
        "    for c in range(ncol):\n",
        "        df_flights[df_list[count]].plot(ax=axes[r,c])\n",
        "        axes[r,c].set_title(df_list[count])\n",
        "        count+=1"
      ],
      "metadata": {
        "colab": {
          "base_uri": "https://localhost:8080/",
          "height": 524
        },
        "id": "XML4PgkwNubT",
        "outputId": "8fc1ce9f-3c5e-4cc1-f15b-9ab74f7c9204"
      },
      "execution_count": null,
      "outputs": [
        {
          "output_type": "display_data",
          "data": {
            "text/plain": [
              "<Figure size 640x480 with 25 Axes>"
            ],
            "image/png": "[encoded data removed]"
          },
          "metadata": {}
        }
      ]
    },
    {
      "cell_type": "code",
      "source": [
        "# zależność opóźnienia przylotu od pozostałych zmiennych numerycznych\n",
        "\n",
        "fig, axes = plt.subplots(nrows=nrow, ncols=ncol)\n",
        "fig.tight_layout()\n",
        "\n",
        "count=0\n",
        "for r in range(nrow):\n",
        "    for c in range(ncol):\n",
        "        df_flights.plot.scatter(df_list[count], 'ARRIVAL_DELAY', ax=axes[r,c])\n",
        "        axes[r,c].set_title(df_list[count])\n",
        "        axes[r,c].set(xlabel=None)\n",
        "        axes[r,c].set(ylabel=None)\n",
        "        count+=1"
      ],
      "metadata": {
        "colab": {
          "base_uri": "https://localhost:8080/",
          "height": 510
        },
        "id": "xMqPDXufO3M7",
        "outputId": "1894779f-132b-40cb-bfae-bd288017c044"
      },
      "execution_count": null,
      "outputs": [
        {
          "output_type": "display_data",
          "data": {
            "text/plain": [
              "<Figure size 640x480 with 25 Axes>"
            ],
            "image/png": "[encoded data removed]"
          },
          "metadata": {}
        }
      ]
    },
    {
      "cell_type": "markdown",
      "source": [
        "Największa korelacja jest ze zmienną 'DEPARTURE_DELAY', która przedstawia całkowite opóźnienie wylotu. Jeśli jej użyjemy do predykcji, skutkiem będzie wyciek danych!!!"
      ],
      "metadata": {
        "id": "kt4LhneeteUt"
      }
    },
    {
      "cell_type": "code",
      "source": [
        "plt.scatter(x=df_flights['DEPARTURE_DELAY'], y=df_flights['ARRIVAL_DELAY'], alpha=.5)"
      ],
      "metadata": {
        "colab": {
          "base_uri": "https://localhost:8080/",
          "height": 443
        },
        "id": "lfqYLrI_3Asl",
        "outputId": "e22c4276-5115-4bce-9c79-6c8feb17ed45"
      },
      "execution_count": null,
      "outputs": [
        {
          "output_type": "execute_result",
          "data": {
            "text/plain": [
              "<matplotlib.collections.PathCollection at 0x7f6faf77f5b0>"
            ]
          },
          "metadata": {},
          "execution_count": 25
        },
        {
          "output_type": "display_data",
          "data": {
            "text/plain": [
              "<Figure size 640x480 with 1 Axes>"
            ],
            "image/png": "[encoded data removed]"
          },
          "metadata": {}
        }
      ]
    },
    {
      "cell_type": "markdown",
      "source": [
        "Nasz target 'ARRIVAL_DELAY' najbardzie koreluje ze zmiennymi, których nie możemy użyć do przewidywania opóźnień"
      ],
      "metadata": {
        "id": "tvlRjtDPwFnM"
      }
    },
    {
      "cell_type": "code",
      "source": [
        "sns.heatmap(df_flights.corr(numeric_only=True))"
      ],
      "metadata": {
        "colab": {
          "base_uri": "https://localhost:8080/",
          "height": 560
        },
        "id": "eA5RW7XS3USv",
        "outputId": "87ef8051-8e8c-4cca-b200-6692dab7486e"
      },
      "execution_count": null,
      "outputs": [
        {
          "output_type": "execute_result",
          "data": {
            "text/plain": [
              "<Axes: >"
            ]
          },
          "metadata": {},
          "execution_count": 26
        },
        {
          "output_type": "display_data",
          "data": {
            "text/plain": [
              "<Figure size 640x480 with 2 Axes>"
            ],
            "image/png": "[encoded data removed]"
          },
          "metadata": {}
        }
      ]
    },
    {
      "cell_type": "markdown",
      "source": [
        "### Info"
      ],
      "metadata": {
        "id": "o33d4BdCRc33"
      }
    },
    {
      "cell_type": "code",
      "source": [
        "# ilość wierszy bez opóźnienia przylotu (wartość NaN)\n",
        "df_flights['ARRIVAL_DELAY'].isna().sum()"
      ],
      "metadata": {
        "colab": {
          "base_uri": "https://localhost:8080/"
        },
        "id": "8toM9mJRYR5h",
        "outputId": "3c82be8d-1a9f-49a2-85bf-3e55823c37e2"
      },
      "execution_count": null,
      "outputs": [
        {
          "output_type": "execute_result",
          "data": {
            "text/plain": [
              "105071"
            ]
          },
          "metadata": {},
          "execution_count": 27
        }
      ]
    },
    {
      "cell_type": "markdown",
      "source": [
        "Kolumna 'ARRIVAL_DELAY' ma 105071 wierszy z NaN - jest to suma lotów anulowanych (89884) i przekierowanych (15187)"
      ],
      "metadata": {
        "id": "di4QVWxVwj6o"
      }
    },
    {
      "cell_type": "code",
      "source": [
        "# ilość lotów anulowanych (89884)\n",
        "len(df_flights[df_flights['CANCELLED']==1])"
      ],
      "metadata": {
        "id": "WGD6RLYvKq86",
        "colab": {
          "base_uri": "https://localhost:8080/"
        },
        "outputId": "439649ef-680b-44d9-c25e-00c9bbf4e429"
      },
      "execution_count": null,
      "outputs": [
        {
          "output_type": "execute_result",
          "data": {
            "text/plain": [
              "89884"
            ]
          },
          "metadata": {},
          "execution_count": 28
        }
      ]
    },
    {
      "cell_type": "code",
      "source": [
        "# ilość lotów przekierowanych (15187)\n",
        "len(df_flights[df_flights['DIVERTED']==1])"
      ],
      "metadata": {
        "colab": {
          "base_uri": "https://localhost:8080/"
        },
        "id": "-WWxlkoUK7br",
        "outputId": "ff91267a-c3c2-4663-dae2-9f3d02a90f36"
      },
      "execution_count": null,
      "outputs": [
        {
          "output_type": "execute_result",
          "data": {
            "text/plain": [
              "15187"
            ]
          },
          "metadata": {},
          "execution_count": 29
        }
      ]
    },
    {
      "cell_type": "code",
      "source": [
        "df_flights.info(show_counts=True)"
      ],
      "metadata": {
        "colab": {
          "base_uri": "https://localhost:8080/"
        },
        "id": "QlyZ3rD6OSfa",
        "outputId": "e3ac96da-e3a7-4a01-d8f2-d6a08ad23e67"
      },
      "execution_count": null,
      "outputs": [
        {
          "output_type": "stream",
          "name": "stdout",
          "text": [
            "<class 'pandas.core.frame.DataFrame'>\n",
            "RangeIndex: 5819079 entries, 0 to 5819078\n",
            "Data columns (total 31 columns):\n",
            " #   Column               Non-Null Count    Dtype  \n",
            "---  ------               --------------    -----  \n",
            " 0   YEAR                 5819079 non-null  int64  \n",
            " 1   MONTH                5819079 non-null  int64  \n",
            " 2   DAY                  5819079 non-null  int64  \n",
            " 3   DAY_OF_WEEK          5819079 non-null  int64  \n",
            " 4   AIRLINE              5819079 non-null  object \n",
            " 5   FLIGHT_NUMBER        5819079 non-null  int64  \n",
            " 6   TAIL_NUMBER          5804358 non-null  object \n",
            " 7   ORIGIN_AIRPORT       5819079 non-null  object \n",
            " 8   DESTINATION_AIRPORT  5819079 non-null  object \n",
            " 9   SCHEDULED_DEPARTURE  5819079 non-null  int64  \n",
            " 10  DEPARTURE_TIME       5732926 non-null  float64\n",
            " 11  DEPARTURE_DELAY      5732926 non-null  float64\n",
            " 12  TAXI_OUT             5730032 non-null  float64\n",
            " 13  WHEELS_OFF           5730032 non-null  float64\n",
            " 14  SCHEDULED_TIME       5819073 non-null  float64\n",
            " 15  ELAPSED_TIME         5714008 non-null  float64\n",
            " 16  AIR_TIME             5714008 non-null  float64\n",
            " 17  DISTANCE             5819079 non-null  int64  \n",
            " 18  WHEELS_ON            5726566 non-null  float64\n",
            " 19  TAXI_IN              5726566 non-null  float64\n",
            " 20  SCHEDULED_ARRIVAL    5819079 non-null  int64  \n",
            " 21  ARRIVAL_TIME         5726566 non-null  float64\n",
            " 22  ARRIVAL_DELAY        5714008 non-null  float64\n",
            " 23  DIVERTED             5819079 non-null  int64  \n",
            " 24  CANCELLED            5819079 non-null  int64  \n",
            " 25  CANCELLATION_REASON  89884 non-null    object \n",
            " 26  AIR_SYSTEM_DELAY     1063439 non-null  float64\n",
            " 27  SECURITY_DELAY       1063439 non-null  float64\n",
            " 28  AIRLINE_DELAY        1063439 non-null  float64\n",
            " 29  LATE_AIRCRAFT_DELAY  1063439 non-null  float64\n",
            " 30  WEATHER_DELAY        1063439 non-null  float64\n",
            "dtypes: float64(16), int64(10), object(5)\n",
            "memory usage: 1.3+ GB\n"
          ]
        }
      ]
    },
    {
      "cell_type": "code",
      "source": [
        "df_flights['ORIGIN_AIRPORT'].value_counts()"
      ],
      "metadata": {
        "colab": {
          "base_uri": "https://localhost:8080/"
        },
        "id": "Gu5vzdHL1EF9",
        "outputId": "2f0b03a7-75d0-461f-ab80-710bc9f1361e"
      },
      "execution_count": null,
      "outputs": [
        {
          "output_type": "execute_result",
          "data": {
            "text/plain": [
              "ATL      346836\n",
              "ORD      285884\n",
              "DFW      239551\n",
              "DEN      196055\n",
              "LAX      194673\n",
              "          ...  \n",
              "13541        11\n",
              "10165         9\n",
              "14222         9\n",
              "13502         6\n",
              "11503         4\n",
              "Name: ORIGIN_AIRPORT, Length: 628, dtype: int64"
            ]
          },
          "metadata": {},
          "execution_count": 31
        }
      ]
    },
    {
      "cell_type": "code",
      "source": [
        "df_flights['DESTINATION_AIRPORT'].value_counts()"
      ],
      "metadata": {
        "colab": {
          "base_uri": "https://localhost:8080/"
        },
        "id": "rkLn3SXK1Q03",
        "outputId": "aad52130-143c-4fd9-f764-c9a38986a1a7"
      },
      "execution_count": null,
      "outputs": [
        {
          "output_type": "execute_result",
          "data": {
            "text/plain": [
              "ATL      346904\n",
              "ORD      285906\n",
              "DFW      239582\n",
              "DEN      196010\n",
              "LAX      194696\n",
              "          ...  \n",
              "10165         9\n",
              "14222         9\n",
              "13502         7\n",
              "11503         3\n",
              "10666         1\n",
              "Name: DESTINATION_AIRPORT, Length: 629, dtype: int64"
            ]
          },
          "metadata": {},
          "execution_count": 32
        }
      ]
    },
    {
      "cell_type": "markdown",
      "source": [
        "### Loty z lotniskami bez współrzęnych"
      ],
      "metadata": {
        "id": "QbS0YXqRVHmT"
      }
    },
    {
      "cell_type": "code",
      "source": [
        "o1 = df_flights['ORIGIN_AIRPORT']==airports_Nan[0]\n",
        "o2 = df_flights['ORIGIN_AIRPORT']==airports_Nan[1]\n",
        "o3 = df_flights['ORIGIN_AIRPORT']==airports_Nan[2]\n",
        "d1 = df_flights['DESTINATION_AIRPORT']==airports_Nan[0]\n",
        "d2 = df_flights['DESTINATION_AIRPORT']==airports_Nan[1]\n",
        "d3 = df_flights['DESTINATION_AIRPORT']==airports_Nan[2]\n",
        "\n",
        "# ilość lotów z lotniskami bez wsp. (odlot lub przylot)\n",
        "len(df_flights[o1 | o2 | o3 | d1 | d2 | d3])"
      ],
      "metadata": {
        "colab": {
          "base_uri": "https://localhost:8080/"
        },
        "id": "TgHL8RiJOuW-",
        "outputId": "2828263f-b6d8-4b46-9d58-7b3f5c812e96"
      },
      "execution_count": null,
      "outputs": [
        {
          "output_type": "execute_result",
          "data": {
            "text/plain": [
              "9215"
            ]
          },
          "metadata": {},
          "execution_count": 33
        }
      ]
    },
    {
      "cell_type": "code",
      "source": [
        " #ilość odlotów i przylotów z lotnisk bez wsp.\n",
        "len(df_flights[o1 | o2 | o3]), len(df_flights[d1 | d2 | d3])"
      ],
      "metadata": {
        "colab": {
          "base_uri": "https://localhost:8080/"
        },
        "id": "ngllJ_U2lSKx",
        "outputId": "a8404e3d-6291-4be1-de1e-3e6e5a892159"
      },
      "execution_count": null,
      "outputs": [
        {
          "output_type": "execute_result",
          "data": {
            "text/plain": [
              "(4605, 4610)"
            ]
          },
          "metadata": {},
          "execution_count": 34
        }
      ]
    },
    {
      "cell_type": "markdown",
      "source": [
        "## Symbole lotnisk"
      ],
      "metadata": {
        "id": "V_WKBWT50Cdf"
      }
    },
    {
      "cell_type": "markdown",
      "source": [
        "W pliku airports.csv mamy 322 unikatowe symbole lotnik oraz ich nazwy i współrzęne.\n",
        "Plik flights.csv zawiera 628 unikalnych kodów lotnisk w kolumnie 'ORIGIN_AIRPORT' i 629 w kolumnie 'DESTINATION_AIRPORT', brakuje natomiast współrzędnych.\n",
        "Lotniska w tabeli flights.csv oznaczone są kodami w formacie 3- i 5-cio znakowym, przy czym jedno lotnisko może mieć 2 kody np. Afognak Lake, AK: Afognak Lake Airport ma kod 01A i 10001.\n",
        "\n",
        "Naszym celem jest przypisanie współrzędnych do lotnisk, żeby miejsce startowe i docelowe lotnisko było przedstawione w tabeli w postaci numerycznej.\n",
        "Przy użyciu tabel znalezionych w internecie, z kodami 3- i 5-cio znakowymi, dołączamy współrzędne lotnisk w tabeli flights.csv."
      ],
      "metadata": {
        "id": "mmwru3SD0u5j"
      }
    },
    {
      "cell_type": "code",
      "source": [
        "# symbole 3-literowe\n",
        "df_airports_3 = pd.read_csv('/content/drive/MyDrive/L_AIRPORT.csv')\n",
        "df_airports_3.head()"
      ],
      "metadata": {
        "colab": {
          "base_uri": "https://localhost:8080/",
          "height": 206
        },
        "id": "d8zlaF6aHMKw",
        "outputId": "5ce0df89-0239-43c5-93a6-24ddbbdaf28a"
      },
      "execution_count": null,
      "outputs": [
        {
          "output_type": "execute_result",
          "data": {
            "text/plain": [
              "  Code                                    Description\n",
              "0  01A         Afognak Lake, AK: Afognak Lake Airport\n",
              "1  03A  Granite Mountain, AK: Bear Creek Mining Strip\n",
              "2  04A                       Lik, AK: Lik Mining Camp\n",
              "3  05A         Little Squaw, AK: Little Squaw Airport\n",
              "4  06A                     Kizhuyak, AK: Kizhuyak Bay"
            ],
            "text/html": [
              "\n",
              "  <div id=\"df-d7e28de6-765a-4f22-b16c-1be686c01ac5\">\n",
              "    <div class=\"colab-df-container\">\n",
              "      <div>\n",
              "<style scoped>\n",
              "    .dataframe tbody tr th:only-of-type {\n",
              "        vertical-align: middle;\n",
              "    }\n",
              "\n",
              "    .dataframe tbody tr th {\n",
              "        vertical-align: top;\n",
              "    }\n",
              "\n",
              "    .dataframe thead th {\n",
              "        text-align: right;\n",
              "    }\n",
              "</style>\n",
              "<table border=\"1\" class=\"dataframe\">\n",
              "  <thead>\n",
              "    <tr style=\"text-align: right;\">\n",
              "      <th></th>\n",
              "      <th>Code</th>\n",
              "      <th>Description</th>\n",
              "    </tr>\n",
              "  </thead>\n",
              "  <tbody>\n",
              "    <tr>\n",
              "      <th>0</th>\n",
              "      <td>01A</td>\n",
              "      <td>Afognak Lake, AK: Afognak Lake Airport</td>\n",
              "    </tr>\n",
              "    <tr>\n",
              "      <th>1</th>\n",
              "      <td>03A</td>\n",
              "      <td>Granite Mountain, AK: Bear Creek Mining Strip</td>\n",
              "    </tr>\n",
              "    <tr>\n",
              "      <th>2</th>\n",
              "      <td>04A</td>\n",
              "      <td>Lik, AK: Lik Mining Camp</td>\n",
              "    </tr>\n",
              "    <tr>\n",
              "      <th>3</th>\n",
              "      <td>05A</td>\n",
              "      <td>Little Squaw, AK: Little Squaw Airport</td>\n",
              "    </tr>\n",
              "    <tr>\n",
              "      <th>4</th>\n",
              "      <td>06A</td>\n",
              "      <td>Kizhuyak, AK: Kizhuyak Bay</td>\n",
              "    </tr>\n",
              "  </tbody>\n",
              "</table>\n",
              "</div>\n",
              "      <button class=\"colab-df-convert\" onclick=\"convertToInteractive('df-d7e28de6-765a-4f22-b16c-1be686c01ac5')\"\n",
              "              title=\"Convert this dataframe to an interactive table.\"\n",
              "              style=\"display:none;\">\n",
              "        \n",
              "  <svg xmlns=\"http://www.w3.org/2000/svg\" height=\"24px\"viewBox=\"0 0 24 24\"\n",
              "       width=\"24px\">\n",
              "    <path d=\"M0 0h24v24H0V0z\" fill=\"none\"/>\n",
              "    <path d=\"M18.56 5.44l.94 2.06.94-2.06 2.06-.94-2.06-.94-.94-2.06-.94 2.06-2.06.94zm-11 1L8.5 8.5l.94-2.06 2.06-.94-2.06-.94L8.5 2.5l-.94 2.06-2.06.94zm10 10l.94 2.06.94-2.06 2.06-.94-2.06-.94-.94-2.06-.94 2.06-2.06.94z\"/><path d=\"M17.41 7.96l-1.37-1.37c-.4-.4-.92-.59-1.43-.59-.52 0-1.04.2-1.43.59L10.3 9.45l-7.72 7.72c-.78.78-.78 2.05 0 2.83L4 21.41c.39.39.9.59 1.41.59.51 0 1.02-.2 1.41-.59l7.78-7.78 2.81-2.81c.8-.78.8-2.07 0-2.86zM5.41 20L4 18.59l7.72-7.72 1.47 1.35L5.41 20z\"/>\n",
              "  </svg>\n",
              "      </button>\n",
              "      \n",
              "  <style>\n",
              "    .colab-df-container {\n",
              "      display:flex;\n",
              "      flex-wrap:wrap;\n",
              "      gap: 12px;\n",
              "    }\n",
              "\n",
              "    .colab-df-convert {\n",
              "      background-color: #E8F0FE;\n",
              "      border: none;\n",
              "      border-radius: 50%;\n",
              "      cursor: pointer;\n",
              "      display: none;\n",
              "      fill: #1967D2;\n",
              "      height: 32px;\n",
              "      padding: 0 0 0 0;\n",
              "      width: 32px;\n",
              "    }\n",
              "\n",
              "    .colab-df-convert:hover {\n",
              "      background-color: #E2EBFA;\n",
              "      box-shadow: 0px 1px 2px rgba(60, 64, 67, 0.3), 0px 1px 3px 1px rgba(60, 64, 67, 0.15);\n",
              "      fill: #174EA6;\n",
              "    }\n",
              "\n",
              "    [theme=dark] .colab-df-convert {\n",
              "      background-color: #3B4455;\n",
              "      fill: #D2E3FC;\n",
              "    }\n",
              "\n",
              "    [theme=dark] .colab-df-convert:hover {\n",
              "      background-color: #434B5C;\n",
              "      box-shadow: 0px 1px 3px 1px rgba(0, 0, 0, 0.15);\n",
              "      filter: drop-shadow(0px 1px 2px rgba(0, 0, 0, 0.3));\n",
              "      fill: #FFFFFF;\n",
              "    }\n",
              "  </style>\n",
              "\n",
              "      <script>\n",
              "        const buttonEl =\n",
              "          document.querySelector('#df-d7e28de6-765a-4f22-b16c-1be686c01ac5 button.colab-df-convert');\n",
              "        buttonEl.style.display =\n",
              "          google.colab.kernel.accessAllowed ? 'block' : 'none';\n",
              "\n",
              "        async function convertToInteractive(key) {\n",
              "          const element = document.querySelector('#df-d7e28de6-765a-4f22-b16c-1be686c01ac5');\n",
              "          const dataTable =\n",
              "            await google.colab.kernel.invokeFunction('convertToInteractive',\n",
              "                                                     [key], {});\n",
              "          if (!dataTable) return;\n",
              "\n",
              "          const docLinkHtml = 'Like what you see? Visit the ' +\n",
              "            '<a target=\"_blank\" href=https://colab.research.google.com/notebooks/data_table.ipynb>data table notebook</a>'\n",
              "            + ' to learn more about interactive tables.';\n",
              "          element.innerHTML = '';\n",
              "          dataTable['output_type'] = 'display_data';\n",
              "          await google.colab.output.renderOutput(dataTable, element);\n",
              "          const docLink = document.createElement('div');\n",
              "          docLink.innerHTML = docLinkHtml;\n",
              "          element.appendChild(docLink);\n",
              "        }\n",
              "      </script>\n",
              "    </div>\n",
              "  </div>\n",
              "  "
            ]
          },
          "metadata": {},
          "execution_count": 35
        }
      ]
    },
    {
      "cell_type": "code",
      "source": [
        "# symbole 5-cyfrowe\n",
        "df_airports_5 = pd.read_csv('/content/drive/MyDrive/L_AIRPORT_ID.csv')\n",
        "df_airports_5.head()"
      ],
      "metadata": {
        "colab": {
          "base_uri": "https://localhost:8080/",
          "height": 206
        },
        "id": "IBcsxPAvHazg",
        "outputId": "46027fe7-539b-40e6-9279-a8bc64b386c0"
      },
      "execution_count": null,
      "outputs": [
        {
          "output_type": "execute_result",
          "data": {
            "text/plain": [
              "    Code                                    Description\n",
              "0  10001         Afognak Lake, AK: Afognak Lake Airport\n",
              "1  10003  Granite Mountain, AK: Bear Creek Mining Strip\n",
              "2  10004                       Lik, AK: Lik Mining Camp\n",
              "3  10005         Little Squaw, AK: Little Squaw Airport\n",
              "4  10006                     Kizhuyak, AK: Kizhuyak Bay"
            ],
            "text/html": [
              "\n",
              "  <div id=\"df-eedfec89-1e18-4b7d-8e44-1c040c4faa07\">\n",
              "    <div class=\"colab-df-container\">\n",
              "      <div>\n",
              "<style scoped>\n",
              "    .dataframe tbody tr th:only-of-type {\n",
              "        vertical-align: middle;\n",
              "    }\n",
              "\n",
              "    .dataframe tbody tr th {\n",
              "        vertical-align: top;\n",
              "    }\n",
              "\n",
              "    .dataframe thead th {\n",
              "        text-align: right;\n",
              "    }\n",
              "</style>\n",
              "<table border=\"1\" class=\"dataframe\">\n",
              "  <thead>\n",
              "    <tr style=\"text-align: right;\">\n",
              "      <th></th>\n",
              "      <th>Code</th>\n",
              "      <th>Description</th>\n",
              "    </tr>\n",
              "  </thead>\n",
              "  <tbody>\n",
              "    <tr>\n",
              "      <th>0</th>\n",
              "      <td>10001</td>\n",
              "      <td>Afognak Lake, AK: Afognak Lake Airport</td>\n",
              "    </tr>\n",
              "    <tr>\n",
              "      <th>1</th>\n",
              "      <td>10003</td>\n",
              "      <td>Granite Mountain, AK: Bear Creek Mining Strip</td>\n",
              "    </tr>\n",
              "    <tr>\n",
              "      <th>2</th>\n",
              "      <td>10004</td>\n",
              "      <td>Lik, AK: Lik Mining Camp</td>\n",
              "    </tr>\n",
              "    <tr>\n",
              "      <th>3</th>\n",
              "      <td>10005</td>\n",
              "      <td>Little Squaw, AK: Little Squaw Airport</td>\n",
              "    </tr>\n",
              "    <tr>\n",
              "      <th>4</th>\n",
              "      <td>10006</td>\n",
              "      <td>Kizhuyak, AK: Kizhuyak Bay</td>\n",
              "    </tr>\n",
              "  </tbody>\n",
              "</table>\n",
              "</div>\n",
              "      <button class=\"colab-df-convert\" onclick=\"convertToInteractive('df-eedfec89-1e18-4b7d-8e44-1c040c4faa07')\"\n",
              "              title=\"Convert this dataframe to an interactive table.\"\n",
              "              style=\"display:none;\">\n",
              "        \n",
              "  <svg xmlns=\"http://www.w3.org/2000/svg\" height=\"24px\"viewBox=\"0 0 24 24\"\n",
              "       width=\"24px\">\n",
              "    <path d=\"M0 0h24v24H0V0z\" fill=\"none\"/>\n",
              "    <path d=\"M18.56 5.44l.94 2.06.94-2.06 2.06-.94-2.06-.94-.94-2.06-.94 2.06-2.06.94zm-11 1L8.5 8.5l.94-2.06 2.06-.94-2.06-.94L8.5 2.5l-.94 2.06-2.06.94zm10 10l.94 2.06.94-2.06 2.06-.94-2.06-.94-.94-2.06-.94 2.06-2.06.94z\"/><path d=\"M17.41 7.96l-1.37-1.37c-.4-.4-.92-.59-1.43-.59-.52 0-1.04.2-1.43.59L10.3 9.45l-7.72 7.72c-.78.78-.78 2.05 0 2.83L4 21.41c.39.39.9.59 1.41.59.51 0 1.02-.2 1.41-.59l7.78-7.78 2.81-2.81c.8-.78.8-2.07 0-2.86zM5.41 20L4 18.59l7.72-7.72 1.47 1.35L5.41 20z\"/>\n",
              "  </svg>\n",
              "      </button>\n",
              "      \n",
              "  <style>\n",
              "    .colab-df-container {\n",
              "      display:flex;\n",
              "      flex-wrap:wrap;\n",
              "      gap: 12px;\n",
              "    }\n",
              "\n",
              "    .colab-df-convert {\n",
              "      background-color: #E8F0FE;\n",
              "      border: none;\n",
              "      border-radius: 50%;\n",
              "      cursor: pointer;\n",
              "      display: none;\n",
              "      fill: #1967D2;\n",
              "      height: 32px;\n",
              "      padding: 0 0 0 0;\n",
              "      width: 32px;\n",
              "    }\n",
              "\n",
              "    .colab-df-convert:hover {\n",
              "      background-color: #E2EBFA;\n",
              "      box-shadow: 0px 1px 2px rgba(60, 64, 67, 0.3), 0px 1px 3px 1px rgba(60, 64, 67, 0.15);\n",
              "      fill: #174EA6;\n",
              "    }\n",
              "\n",
              "    [theme=dark] .colab-df-convert {\n",
              "      background-color: #3B4455;\n",
              "      fill: #D2E3FC;\n",
              "    }\n",
              "\n",
              "    [theme=dark] .colab-df-convert:hover {\n",
              "      background-color: #434B5C;\n",
              "      box-shadow: 0px 1px 3px 1px rgba(0, 0, 0, 0.15);\n",
              "      filter: drop-shadow(0px 1px 2px rgba(0, 0, 0, 0.3));\n",
              "      fill: #FFFFFF;\n",
              "    }\n",
              "  </style>\n",
              "\n",
              "      <script>\n",
              "        const buttonEl =\n",
              "          document.querySelector('#df-eedfec89-1e18-4b7d-8e44-1c040c4faa07 button.colab-df-convert');\n",
              "        buttonEl.style.display =\n",
              "          google.colab.kernel.accessAllowed ? 'block' : 'none';\n",
              "\n",
              "        async function convertToInteractive(key) {\n",
              "          const element = document.querySelector('#df-eedfec89-1e18-4b7d-8e44-1c040c4faa07');\n",
              "          const dataTable =\n",
              "            await google.colab.kernel.invokeFunction('convertToInteractive',\n",
              "                                                     [key], {});\n",
              "          if (!dataTable) return;\n",
              "\n",
              "          const docLinkHtml = 'Like what you see? Visit the ' +\n",
              "            '<a target=\"_blank\" href=https://colab.research.google.com/notebooks/data_table.ipynb>data table notebook</a>'\n",
              "            + ' to learn more about interactive tables.';\n",
              "          element.innerHTML = '';\n",
              "          dataTable['output_type'] = 'display_data';\n",
              "          await google.colab.output.renderOutput(dataTable, element);\n",
              "          const docLink = document.createElement('div');\n",
              "          docLink.innerHTML = docLinkHtml;\n",
              "          element.appendChild(docLink);\n",
              "        }\n",
              "      </script>\n",
              "    </div>\n",
              "  </div>\n",
              "  "
            ]
          },
          "metadata": {},
          "execution_count": 36
        }
      ]
    },
    {
      "cell_type": "code",
      "source": [
        "# zmiana typu kolumny Code na string\n",
        "df_airports_5['Code'] = df_airports_5['Code'].astype(str)"
      ],
      "metadata": {
        "id": "kNkqTqBfQdmR"
      },
      "execution_count": null,
      "outputs": []
    },
    {
      "cell_type": "markdown",
      "source": [
        "# Utworzenie słownika symboli"
      ],
      "metadata": {
        "id": "Vbj60dmyHi6v"
      }
    },
    {
      "cell_type": "code",
      "source": [
        "# pozostawienie tylko symboli, które występują w tabeli lotów (przyloty lub odloty)\n",
        "df_airports_5 = df_airports_5[(df_airports_5['Code'].isin(df_flights['ORIGIN_AIRPORT'].unique())) | (df_airports_5['Code'].isin(df_flights['DESTINATION_AIRPORT'].unique()))]\n",
        "df_airports_5.head()"
      ],
      "metadata": {
        "colab": {
          "base_uri": "https://localhost:8080/",
          "height": 206
        },
        "id": "DQcQGI68XMWG",
        "outputId": "a48fb317-511e-42af-e984-1b89be1368b9"
      },
      "execution_count": null,
      "outputs": [
        {
          "output_type": "execute_result",
          "data": {
            "text/plain": [
              "      Code                                        Description\n",
              "119  10135  Allentown/Bethlehem/Easton, PA: Lehigh Valley ...\n",
              "120  10136                      Abilene, TX: Abilene Regional\n",
              "124  10140  Albuquerque, NM: Albuquerque International Sun...\n",
              "125  10141                    Aberdeen, SD: Aberdeen Regional\n",
              "130  10146             Albany, GA: Southwest Georgia Regional"
            ],
            "text/html": [
              "\n",
              "  <div id=\"df-e94c5a2d-b556-4b56-99b6-b796f33059cf\">\n",
              "    <div class=\"colab-df-container\">\n",
              "      <div>\n",
              "<style scoped>\n",
              "    .dataframe tbody tr th:only-of-type {\n",
              "        vertical-align: middle;\n",
              "    }\n",
              "\n",
              "    .dataframe tbody tr th {\n",
              "        vertical-align: top;\n",
              "    }\n",
              "\n",
              "    .dataframe thead th {\n",
              "        text-align: right;\n",
              "    }\n",
              "</style>\n",
              "<table border=\"1\" class=\"dataframe\">\n",
              "  <thead>\n",
              "    <tr style=\"text-align: right;\">\n",
              "      <th></th>\n",
              "      <th>Code</th>\n",
              "      <th>Description</th>\n",
              "    </tr>\n",
              "  </thead>\n",
              "  <tbody>\n",
              "    <tr>\n",
              "      <th>119</th>\n",
              "      <td>10135</td>\n",
              "      <td>Allentown/Bethlehem/Easton, PA: Lehigh Valley ...</td>\n",
              "    </tr>\n",
              "    <tr>\n",
              "      <th>120</th>\n",
              "      <td>10136</td>\n",
              "      <td>Abilene, TX: Abilene Regional</td>\n",
              "    </tr>\n",
              "    <tr>\n",
              "      <th>124</th>\n",
              "      <td>10140</td>\n",
              "      <td>Albuquerque, NM: Albuquerque International Sun...</td>\n",
              "    </tr>\n",
              "    <tr>\n",
              "      <th>125</th>\n",
              "      <td>10141</td>\n",
              "      <td>Aberdeen, SD: Aberdeen Regional</td>\n",
              "    </tr>\n",
              "    <tr>\n",
              "      <th>130</th>\n",
              "      <td>10146</td>\n",
              "      <td>Albany, GA: Southwest Georgia Regional</td>\n",
              "    </tr>\n",
              "  </tbody>\n",
              "</table>\n",
              "</div>\n",
              "      <button class=\"colab-df-convert\" onclick=\"convertToInteractive('df-e94c5a2d-b556-4b56-99b6-b796f33059cf')\"\n",
              "              title=\"Convert this dataframe to an interactive table.\"\n",
              "              style=\"display:none;\">\n",
              "        \n",
              "  <svg xmlns=\"http://www.w3.org/2000/svg\" height=\"24px\"viewBox=\"0 0 24 24\"\n",
              "       width=\"24px\">\n",
              "    <path d=\"M0 0h24v24H0V0z\" fill=\"none\"/>\n",
              "    <path d=\"M18.56 5.44l.94 2.06.94-2.06 2.06-.94-2.06-.94-.94-2.06-.94 2.06-2.06.94zm-11 1L8.5 8.5l.94-2.06 2.06-.94-2.06-.94L8.5 2.5l-.94 2.06-2.06.94zm10 10l.94 2.06.94-2.06 2.06-.94-2.06-.94-.94-2.06-.94 2.06-2.06.94z\"/><path d=\"M17.41 7.96l-1.37-1.37c-.4-.4-.92-.59-1.43-.59-.52 0-1.04.2-1.43.59L10.3 9.45l-7.72 7.72c-.78.78-.78 2.05 0 2.83L4 21.41c.39.39.9.59 1.41.59.51 0 1.02-.2 1.41-.59l7.78-7.78 2.81-2.81c.8-.78.8-2.07 0-2.86zM5.41 20L4 18.59l7.72-7.72 1.47 1.35L5.41 20z\"/>\n",
              "  </svg>\n",
              "      </button>\n",
              "      \n",
              "  <style>\n",
              "    .colab-df-container {\n",
              "      display:flex;\n",
              "      flex-wrap:wrap;\n",
              "      gap: 12px;\n",
              "    }\n",
              "\n",
              "    .colab-df-convert {\n",
              "      background-color: #E8F0FE;\n",
              "      border: none;\n",
              "      border-radius: 50%;\n",
              "      cursor: pointer;\n",
              "      display: none;\n",
              "      fill: #1967D2;\n",
              "      height: 32px;\n",
              "      padding: 0 0 0 0;\n",
              "      width: 32px;\n",
              "    }\n",
              "\n",
              "    .colab-df-convert:hover {\n",
              "      background-color: #E2EBFA;\n",
              "      box-shadow: 0px 1px 2px rgba(60, 64, 67, 0.3), 0px 1px 3px 1px rgba(60, 64, 67, 0.15);\n",
              "      fill: #174EA6;\n",
              "    }\n",
              "\n",
              "    [theme=dark] .colab-df-convert {\n",
              "      background-color: #3B4455;\n",
              "      fill: #D2E3FC;\n",
              "    }\n",
              "\n",
              "    [theme=dark] .colab-df-convert:hover {\n",
              "      background-color: #434B5C;\n",
              "      box-shadow: 0px 1px 3px 1px rgba(0, 0, 0, 0.15);\n",
              "      filter: drop-shadow(0px 1px 2px rgba(0, 0, 0, 0.3));\n",
              "      fill: #FFFFFF;\n",
              "    }\n",
              "  </style>\n",
              "\n",
              "      <script>\n",
              "        const buttonEl =\n",
              "          document.querySelector('#df-e94c5a2d-b556-4b56-99b6-b796f33059cf button.colab-df-convert');\n",
              "        buttonEl.style.display =\n",
              "          google.colab.kernel.accessAllowed ? 'block' : 'none';\n",
              "\n",
              "        async function convertToInteractive(key) {\n",
              "          const element = document.querySelector('#df-e94c5a2d-b556-4b56-99b6-b796f33059cf');\n",
              "          const dataTable =\n",
              "            await google.colab.kernel.invokeFunction('convertToInteractive',\n",
              "                                                     [key], {});\n",
              "          if (!dataTable) return;\n",
              "\n",
              "          const docLinkHtml = 'Like what you see? Visit the ' +\n",
              "            '<a target=\"_blank\" href=https://colab.research.google.com/notebooks/data_table.ipynb>data table notebook</a>'\n",
              "            + ' to learn more about interactive tables.';\n",
              "          element.innerHTML = '';\n",
              "          dataTable['output_type'] = 'display_data';\n",
              "          await google.colab.output.renderOutput(dataTable, element);\n",
              "          const docLink = document.createElement('div');\n",
              "          docLink.innerHTML = docLinkHtml;\n",
              "          element.appendChild(docLink);\n",
              "        }\n",
              "      </script>\n",
              "    </div>\n",
              "  </div>\n",
              "  "
            ]
          },
          "metadata": {},
          "execution_count": 38
        }
      ]
    },
    {
      "cell_type": "code",
      "source": [
        "df_airports_5.shape"
      ],
      "metadata": {
        "colab": {
          "base_uri": "https://localhost:8080/"
        },
        "id": "KSlWPE_B4qYL",
        "outputId": "662c6add-0eee-420a-b5ba-2460f3fa3ed9"
      },
      "execution_count": null,
      "outputs": [
        {
          "output_type": "execute_result",
          "data": {
            "text/plain": [
              "(307, 2)"
            ]
          },
          "metadata": {},
          "execution_count": 39
        }
      ]
    },
    {
      "cell_type": "code",
      "source": [
        "# dołączenie do symboli 5-cyfrowych symboli 3-literowych\n",
        "df_tmp = df_airports_5.merge(df_airports_3[['Code', 'Description']], how='left', left_on='Description', right_on='Description')"
      ],
      "metadata": {
        "id": "62-VCT_BXMT-"
      },
      "execution_count": null,
      "outputs": []
    },
    {
      "cell_type": "code",
      "source": [
        "df_tmp.head()"
      ],
      "metadata": {
        "colab": {
          "base_uri": "https://localhost:8080/",
          "height": 206
        },
        "id": "SOSKId5iXMRf",
        "outputId": "3058519f-a570-4d2a-8c66-ca26d8195658"
      },
      "execution_count": null,
      "outputs": [
        {
          "output_type": "execute_result",
          "data": {
            "text/plain": [
              "  Code_x                                        Description Code_y\n",
              "0  10135  Allentown/Bethlehem/Easton, PA: Lehigh Valley ...    ABE\n",
              "1  10136                      Abilene, TX: Abilene Regional    ABI\n",
              "2  10140  Albuquerque, NM: Albuquerque International Sun...    ABQ\n",
              "3  10141                    Aberdeen, SD: Aberdeen Regional    ABR\n",
              "4  10146             Albany, GA: Southwest Georgia Regional    ABY"
            ],
            "text/html": [
              "\n",
              "  <div id=\"df-f88c0381-5238-4e2a-bc73-70a1b6e41154\">\n",
              "    <div class=\"colab-df-container\">\n",
              "      <div>\n",
              "<style scoped>\n",
              "    .dataframe tbody tr th:only-of-type {\n",
              "        vertical-align: middle;\n",
              "    }\n",
              "\n",
              "    .dataframe tbody tr th {\n",
              "        vertical-align: top;\n",
              "    }\n",
              "\n",
              "    .dataframe thead th {\n",
              "        text-align: right;\n",
              "    }\n",
              "</style>\n",
              "<table border=\"1\" class=\"dataframe\">\n",
              "  <thead>\n",
              "    <tr style=\"text-align: right;\">\n",
              "      <th></th>\n",
              "      <th>Code_x</th>\n",
              "      <th>Description</th>\n",
              "      <th>Code_y</th>\n",
              "    </tr>\n",
              "  </thead>\n",
              "  <tbody>\n",
              "    <tr>\n",
              "      <th>0</th>\n",
              "      <td>10135</td>\n",
              "      <td>Allentown/Bethlehem/Easton, PA: Lehigh Valley ...</td>\n",
              "      <td>ABE</td>\n",
              "    </tr>\n",
              "    <tr>\n",
              "      <th>1</th>\n",
              "      <td>10136</td>\n",
              "      <td>Abilene, TX: Abilene Regional</td>\n",
              "      <td>ABI</td>\n",
              "    </tr>\n",
              "    <tr>\n",
              "      <th>2</th>\n",
              "      <td>10140</td>\n",
              "      <td>Albuquerque, NM: Albuquerque International Sun...</td>\n",
              "      <td>ABQ</td>\n",
              "    </tr>\n",
              "    <tr>\n",
              "      <th>3</th>\n",
              "      <td>10141</td>\n",
              "      <td>Aberdeen, SD: Aberdeen Regional</td>\n",
              "      <td>ABR</td>\n",
              "    </tr>\n",
              "    <tr>\n",
              "      <th>4</th>\n",
              "      <td>10146</td>\n",
              "      <td>Albany, GA: Southwest Georgia Regional</td>\n",
              "      <td>ABY</td>\n",
              "    </tr>\n",
              "  </tbody>\n",
              "</table>\n",
              "</div>\n",
              "      <button class=\"colab-df-convert\" onclick=\"convertToInteractive('df-f88c0381-5238-4e2a-bc73-70a1b6e41154')\"\n",
              "              title=\"Convert this dataframe to an interactive table.\"\n",
              "              style=\"display:none;\">\n",
              "        \n",
              "  <svg xmlns=\"http://www.w3.org/2000/svg\" height=\"24px\"viewBox=\"0 0 24 24\"\n",
              "       width=\"24px\">\n",
              "    <path d=\"M0 0h24v24H0V0z\" fill=\"none\"/>\n",
              "    <path d=\"M18.56 5.44l.94 2.06.94-2.06 2.06-.94-2.06-.94-.94-2.06-.94 2.06-2.06.94zm-11 1L8.5 8.5l.94-2.06 2.06-.94-2.06-.94L8.5 2.5l-.94 2.06-2.06.94zm10 10l.94 2.06.94-2.06 2.06-.94-2.06-.94-.94-2.06-.94 2.06-2.06.94z\"/><path d=\"M17.41 7.96l-1.37-1.37c-.4-.4-.92-.59-1.43-.59-.52 0-1.04.2-1.43.59L10.3 9.45l-7.72 7.72c-.78.78-.78 2.05 0 2.83L4 21.41c.39.39.9.59 1.41.59.51 0 1.02-.2 1.41-.59l7.78-7.78 2.81-2.81c.8-.78.8-2.07 0-2.86zM5.41 20L4 18.59l7.72-7.72 1.47 1.35L5.41 20z\"/>\n",
              "  </svg>\n",
              "      </button>\n",
              "      \n",
              "  <style>\n",
              "    .colab-df-container {\n",
              "      display:flex;\n",
              "      flex-wrap:wrap;\n",
              "      gap: 12px;\n",
              "    }\n",
              "\n",
              "    .colab-df-convert {\n",
              "      background-color: #E8F0FE;\n",
              "      border: none;\n",
              "      border-radius: 50%;\n",
              "      cursor: pointer;\n",
              "      display: none;\n",
              "      fill: #1967D2;\n",
              "      height: 32px;\n",
              "      padding: 0 0 0 0;\n",
              "      width: 32px;\n",
              "    }\n",
              "\n",
              "    .colab-df-convert:hover {\n",
              "      background-color: #E2EBFA;\n",
              "      box-shadow: 0px 1px 2px rgba(60, 64, 67, 0.3), 0px 1px 3px 1px rgba(60, 64, 67, 0.15);\n",
              "      fill: #174EA6;\n",
              "    }\n",
              "\n",
              "    [theme=dark] .colab-df-convert {\n",
              "      background-color: #3B4455;\n",
              "      fill: #D2E3FC;\n",
              "    }\n",
              "\n",
              "    [theme=dark] .colab-df-convert:hover {\n",
              "      background-color: #434B5C;\n",
              "      box-shadow: 0px 1px 3px 1px rgba(0, 0, 0, 0.15);\n",
              "      filter: drop-shadow(0px 1px 2px rgba(0, 0, 0, 0.3));\n",
              "      fill: #FFFFFF;\n",
              "    }\n",
              "  </style>\n",
              "\n",
              "      <script>\n",
              "        const buttonEl =\n",
              "          document.querySelector('#df-f88c0381-5238-4e2a-bc73-70a1b6e41154 button.colab-df-convert');\n",
              "        buttonEl.style.display =\n",
              "          google.colab.kernel.accessAllowed ? 'block' : 'none';\n",
              "\n",
              "        async function convertToInteractive(key) {\n",
              "          const element = document.querySelector('#df-f88c0381-5238-4e2a-bc73-70a1b6e41154');\n",
              "          const dataTable =\n",
              "            await google.colab.kernel.invokeFunction('convertToInteractive',\n",
              "                                                     [key], {});\n",
              "          if (!dataTable) return;\n",
              "\n",
              "          const docLinkHtml = 'Like what you see? Visit the ' +\n",
              "            '<a target=\"_blank\" href=https://colab.research.google.com/notebooks/data_table.ipynb>data table notebook</a>'\n",
              "            + ' to learn more about interactive tables.';\n",
              "          element.innerHTML = '';\n",
              "          dataTable['output_type'] = 'display_data';\n",
              "          await google.colab.output.renderOutput(dataTable, element);\n",
              "          const docLink = document.createElement('div');\n",
              "          docLink.innerHTML = docLinkHtml;\n",
              "          element.appendChild(docLink);\n",
              "        }\n",
              "      </script>\n",
              "    </div>\n",
              "  </div>\n",
              "  "
            ]
          },
          "metadata": {},
          "execution_count": 41
        }
      ]
    },
    {
      "cell_type": "code",
      "source": [
        "# ustawienie indeksu na kolumnie z kodem 5-cyfrowym\n",
        "df_tmp.set_index('Code_x', inplace=True)\n",
        "df_tmp.head()"
      ],
      "metadata": {
        "colab": {
          "base_uri": "https://localhost:8080/",
          "height": 238
        },
        "id": "DX2uHNrPavgj",
        "outputId": "e9caa923-fed5-4ca7-81cf-dfe90d7c5580"
      },
      "execution_count": null,
      "outputs": [
        {
          "output_type": "execute_result",
          "data": {
            "text/plain": [
              "                                              Description Code_y\n",
              "Code_x                                                          \n",
              "10135   Allentown/Bethlehem/Easton, PA: Lehigh Valley ...    ABE\n",
              "10136                       Abilene, TX: Abilene Regional    ABI\n",
              "10140   Albuquerque, NM: Albuquerque International Sun...    ABQ\n",
              "10141                     Aberdeen, SD: Aberdeen Regional    ABR\n",
              "10146              Albany, GA: Southwest Georgia Regional    ABY"
            ],
            "text/html": [
              "\n",
              "  <div id=\"df-264093b4-1e22-4113-8fe9-4dcad916c322\">\n",
              "    <div class=\"colab-df-container\">\n",
              "      <div>\n",
              "<style scoped>\n",
              "    .dataframe tbody tr th:only-of-type {\n",
              "        vertical-align: middle;\n",
              "    }\n",
              "\n",
              "    .dataframe tbody tr th {\n",
              "        vertical-align: top;\n",
              "    }\n",
              "\n",
              "    .dataframe thead th {\n",
              "        text-align: right;\n",
              "    }\n",
              "</style>\n",
              "<table border=\"1\" class=\"dataframe\">\n",
              "  <thead>\n",
              "    <tr style=\"text-align: right;\">\n",
              "      <th></th>\n",
              "      <th>Description</th>\n",
              "      <th>Code_y</th>\n",
              "    </tr>\n",
              "    <tr>\n",
              "      <th>Code_x</th>\n",
              "      <th></th>\n",
              "      <th></th>\n",
              "    </tr>\n",
              "  </thead>\n",
              "  <tbody>\n",
              "    <tr>\n",
              "      <th>10135</th>\n",
              "      <td>Allentown/Bethlehem/Easton, PA: Lehigh Valley ...</td>\n",
              "      <td>ABE</td>\n",
              "    </tr>\n",
              "    <tr>\n",
              "      <th>10136</th>\n",
              "      <td>Abilene, TX: Abilene Regional</td>\n",
              "      <td>ABI</td>\n",
              "    </tr>\n",
              "    <tr>\n",
              "      <th>10140</th>\n",
              "      <td>Albuquerque, NM: Albuquerque International Sun...</td>\n",
              "      <td>ABQ</td>\n",
              "    </tr>\n",
              "    <tr>\n",
              "      <th>10141</th>\n",
              "      <td>Aberdeen, SD: Aberdeen Regional</td>\n",
              "      <td>ABR</td>\n",
              "    </tr>\n",
              "    <tr>\n",
              "      <th>10146</th>\n",
              "      <td>Albany, GA: Southwest Georgia Regional</td>\n",
              "      <td>ABY</td>\n",
              "    </tr>\n",
              "  </tbody>\n",
              "</table>\n",
              "</div>\n",
              "      <button class=\"colab-df-convert\" onclick=\"convertToInteractive('df-264093b4-1e22-4113-8fe9-4dcad916c322')\"\n",
              "              title=\"Convert this dataframe to an interactive table.\"\n",
              "              style=\"display:none;\">\n",
              "        \n",
              "  <svg xmlns=\"http://www.w3.org/2000/svg\" height=\"24px\"viewBox=\"0 0 24 24\"\n",
              "       width=\"24px\">\n",
              "    <path d=\"M0 0h24v24H0V0z\" fill=\"none\"/>\n",
              "    <path d=\"M18.56 5.44l.94 2.06.94-2.06 2.06-.94-2.06-.94-.94-2.06-.94 2.06-2.06.94zm-11 1L8.5 8.5l.94-2.06 2.06-.94-2.06-.94L8.5 2.5l-.94 2.06-2.06.94zm10 10l.94 2.06.94-2.06 2.06-.94-2.06-.94-.94-2.06-.94 2.06-2.06.94z\"/><path d=\"M17.41 7.96l-1.37-1.37c-.4-.4-.92-.59-1.43-.59-.52 0-1.04.2-1.43.59L10.3 9.45l-7.72 7.72c-.78.78-.78 2.05 0 2.83L4 21.41c.39.39.9.59 1.41.59.51 0 1.02-.2 1.41-.59l7.78-7.78 2.81-2.81c.8-.78.8-2.07 0-2.86zM5.41 20L4 18.59l7.72-7.72 1.47 1.35L5.41 20z\"/>\n",
              "  </svg>\n",
              "      </button>\n",
              "      \n",
              "  <style>\n",
              "    .colab-df-container {\n",
              "      display:flex;\n",
              "      flex-wrap:wrap;\n",
              "      gap: 12px;\n",
              "    }\n",
              "\n",
              "    .colab-df-convert {\n",
              "      background-color: #E8F0FE;\n",
              "      border: none;\n",
              "      border-radius: 50%;\n",
              "      cursor: pointer;\n",
              "      display: none;\n",
              "      fill: #1967D2;\n",
              "      height: 32px;\n",
              "      padding: 0 0 0 0;\n",
              "      width: 32px;\n",
              "    }\n",
              "\n",
              "    .colab-df-convert:hover {\n",
              "      background-color: #E2EBFA;\n",
              "      box-shadow: 0px 1px 2px rgba(60, 64, 67, 0.3), 0px 1px 3px 1px rgba(60, 64, 67, 0.15);\n",
              "      fill: #174EA6;\n",
              "    }\n",
              "\n",
              "    [theme=dark] .colab-df-convert {\n",
              "      background-color: #3B4455;\n",
              "      fill: #D2E3FC;\n",
              "    }\n",
              "\n",
              "    [theme=dark] .colab-df-convert:hover {\n",
              "      background-color: #434B5C;\n",
              "      box-shadow: 0px 1px 3px 1px rgba(0, 0, 0, 0.15);\n",
              "      filter: drop-shadow(0px 1px 2px rgba(0, 0, 0, 0.3));\n",
              "      fill: #FFFFFF;\n",
              "    }\n",
              "  </style>\n",
              "\n",
              "      <script>\n",
              "        const buttonEl =\n",
              "          document.querySelector('#df-264093b4-1e22-4113-8fe9-4dcad916c322 button.colab-df-convert');\n",
              "        buttonEl.style.display =\n",
              "          google.colab.kernel.accessAllowed ? 'block' : 'none';\n",
              "\n",
              "        async function convertToInteractive(key) {\n",
              "          const element = document.querySelector('#df-264093b4-1e22-4113-8fe9-4dcad916c322');\n",
              "          const dataTable =\n",
              "            await google.colab.kernel.invokeFunction('convertToInteractive',\n",
              "                                                     [key], {});\n",
              "          if (!dataTable) return;\n",
              "\n",
              "          const docLinkHtml = 'Like what you see? Visit the ' +\n",
              "            '<a target=\"_blank\" href=https://colab.research.google.com/notebooks/data_table.ipynb>data table notebook</a>'\n",
              "            + ' to learn more about interactive tables.';\n",
              "          element.innerHTML = '';\n",
              "          dataTable['output_type'] = 'display_data';\n",
              "          await google.colab.output.renderOutput(dataTable, element);\n",
              "          const docLink = document.createElement('div');\n",
              "          docLink.innerHTML = docLinkHtml;\n",
              "          element.appendChild(docLink);\n",
              "        }\n",
              "      </script>\n",
              "    </div>\n",
              "  </div>\n",
              "  "
            ]
          },
          "metadata": {},
          "execution_count": 42
        }
      ]
    },
    {
      "cell_type": "code",
      "source": [
        "# utworzenie słownika z kodami\n",
        "kody = df_tmp['Code_y'].to_dict()\n",
        "kody"
      ],
      "metadata": {
        "colab": {
          "base_uri": "https://localhost:8080/"
        },
        "id": "4IhKfj8-avl1",
        "outputId": "139f9994-6f7d-4327-8bd3-db24b58964b8"
      },
      "execution_count": null,
      "outputs": [
        {
          "output_type": "execute_result",
          "data": {
            "text/plain": [
              "{'10135': 'ABE',\n",
              " '10136': 'ABI',\n",
              " '10140': 'ABQ',\n",
              " '10141': 'ABR',\n",
              " '10146': 'ABY',\n",
              " '10154': 'ACK',\n",
              " '10155': 'ACT',\n",
              " '10157': 'ACV',\n",
              " '10158': 'ACY',\n",
              " '10165': 'ADK',\n",
              " '10170': 'ADQ',\n",
              " '10185': 'AEX',\n",
              " '10208': 'AGS',\n",
              " '10257': 'ALB',\n",
              " '10268': 'ALO',\n",
              " '10279': 'AMA',\n",
              " '10299': 'ANC',\n",
              " '10333': 'APN',\n",
              " '10372': 'ASE',\n",
              " '10397': 'ATL',\n",
              " '10408': 'ATW',\n",
              " '10423': 'BSM',\n",
              " '10431': 'AVL',\n",
              " '10434': 'AVP',\n",
              " '10469': 'AZO',\n",
              " '10529': 'BDL',\n",
              " '10551': 'BET',\n",
              " '10561': 'BFL',\n",
              " '10577': 'BGM',\n",
              " '10581': 'BGR',\n",
              " '10599': 'BHM',\n",
              " '10620': 'BIL',\n",
              " '10627': 'BIS',\n",
              " '10631': 'BJI',\n",
              " '10666': 'BLI',\n",
              " '10685': 'BMI',\n",
              " '10693': 'BNA',\n",
              " '10713': 'BOI',\n",
              " '10721': 'BOS',\n",
              " '10728': 'BPT',\n",
              " '10731': 'BQK',\n",
              " '10732': 'BQN',\n",
              " '10739': 'BRD',\n",
              " '10747': 'BRO',\n",
              " '10754': 'BRW',\n",
              " '10779': 'BTM',\n",
              " '10781': 'BTR',\n",
              " '10785': 'BTV',\n",
              " '10792': 'BUF',\n",
              " '10800': 'BUR',\n",
              " '10821': 'BWI',\n",
              " '10849': 'BZN',\n",
              " '10868': 'CAE',\n",
              " '10874': 'CAK',\n",
              " '10918': 'CDC',\n",
              " '10926': 'CDV',\n",
              " '10980': 'CHA',\n",
              " '10990': 'CHO',\n",
              " '10994': 'CHS',\n",
              " '11003': 'CID',\n",
              " '11013': 'CIU',\n",
              " '11042': 'CLE',\n",
              " '11049': 'CLL',\n",
              " '11057': 'CLT',\n",
              " '11066': 'CMH',\n",
              " '11067': 'CMI',\n",
              " '11076': 'CMX',\n",
              " '11097': 'COD',\n",
              " '11109': 'COS',\n",
              " '11111': 'COU',\n",
              " '11122': 'CPR',\n",
              " '11140': 'CRP',\n",
              " '11146': 'CRW',\n",
              " '11150': 'CSG',\n",
              " '11193': 'CVG',\n",
              " '11203': 'CWA',\n",
              " '11252': 'DAB',\n",
              " '11259': 'DAL',\n",
              " '11267': 'DAY',\n",
              " '11274': 'DBQ',\n",
              " '11278': 'DCA',\n",
              " '11292': 'DEN',\n",
              " '11298': 'DFW',\n",
              " '11308': 'DHN',\n",
              " '11315': 'DIK',\n",
              " '11337': 'DLH',\n",
              " '11413': 'DRO',\n",
              " '11423': 'DSM',\n",
              " '11433': 'DTW',\n",
              " '11447': 'DVL',\n",
              " '11471': 'EAU',\n",
              " '11481': 'ECP',\n",
              " '11503': 'EGE',\n",
              " '11525': 'EKO',\n",
              " '11537': 'ELM',\n",
              " '11540': 'ELP',\n",
              " '11577': 'ERI',\n",
              " '11587': 'ESC',\n",
              " '11603': 'EUG',\n",
              " '11612': 'EVV',\n",
              " '11617': 'EWN',\n",
              " '11618': 'EWR',\n",
              " '11624': 'EYW',\n",
              " '11630': 'FAI',\n",
              " '11637': 'FAR',\n",
              " '11638': 'FAT',\n",
              " '11641': 'FAY',\n",
              " '11648': 'FCA',\n",
              " '11695': 'FLG',\n",
              " '11697': 'FLL',\n",
              " '11721': 'FNT',\n",
              " '11775': 'FSD',\n",
              " '11778': 'FSM',\n",
              " '11823': 'FWA',\n",
              " '11865': 'GCC',\n",
              " '11867': 'GCK',\n",
              " '11884': 'GEG',\n",
              " '11898': 'GFK',\n",
              " '11905': 'GGG',\n",
              " '11921': 'GJT',\n",
              " '11953': 'GNV',\n",
              " '11973': 'GPT',\n",
              " '11977': 'GRB',\n",
              " '11980': 'GRI',\n",
              " '11982': 'GRK',\n",
              " '11986': 'GRR',\n",
              " '11995': 'GSO',\n",
              " '11996': 'GSP',\n",
              " '12003': 'GTF',\n",
              " '12007': 'GTR',\n",
              " '12016': 'GUM',\n",
              " '12094': 'HDN',\n",
              " '12129': 'HIB',\n",
              " '12156': 'HLN',\n",
              " '12173': 'HNL',\n",
              " '12177': 'HOB',\n",
              " '12191': 'HOU',\n",
              " '12197': 'HPN',\n",
              " '12206': 'HRL',\n",
              " '12217': 'HSV',\n",
              " '12255': 'HYS',\n",
              " '12264': 'IAD',\n",
              " '12265': 'IAG',\n",
              " '12266': 'IAH',\n",
              " '12278': 'ICT',\n",
              " '12280': 'IDA',\n",
              " '12323': 'ILM',\n",
              " '12335': 'IMT',\n",
              " '12339': 'IND',\n",
              " '12343': 'INL',\n",
              " '12389': 'ISN',\n",
              " '12391': 'ISP',\n",
              " '12402': 'ITO',\n",
              " '12441': 'JAC',\n",
              " '12448': 'JAN',\n",
              " '12451': 'JAX',\n",
              " '12478': 'JFK',\n",
              " '12511': 'JLN',\n",
              " '12519': 'JMS',\n",
              " '12523': 'JNU',\n",
              " '12758': 'KOA',\n",
              " '12819': 'KTN',\n",
              " '12884': 'LAN',\n",
              " '12888': 'LAR',\n",
              " '12889': 'LAS',\n",
              " '12891': 'LAW',\n",
              " '12892': 'LAX',\n",
              " '12896': 'LBB',\n",
              " '12898': 'LBE',\n",
              " '12915': 'LCH',\n",
              " '12945': 'LEX',\n",
              " '12951': 'LFT',\n",
              " '12953': 'LGA',\n",
              " '12954': 'LGB',\n",
              " '12982': 'LIH',\n",
              " '12992': 'LIT',\n",
              " '13029': 'LNK',\n",
              " '13061': 'LRD',\n",
              " '13076': 'LSE',\n",
              " '13127': 'LWS',\n",
              " '13158': 'MAF',\n",
              " '13184': 'MBS',\n",
              " '13198': 'MCI',\n",
              " '13204': 'MCO',\n",
              " '13230': 'MDT',\n",
              " '13232': 'MDW',\n",
              " '13241': 'MEI',\n",
              " '13244': 'MEM',\n",
              " '13256': 'MFE',\n",
              " '13264': 'MFR',\n",
              " '13277': 'MGM',\n",
              " '13290': 'MHK',\n",
              " '13296': 'MHT',\n",
              " '13303': 'MIA',\n",
              " '13342': 'MKE',\n",
              " '13344': 'MKG',\n",
              " '13360': 'MLB',\n",
              " '13367': 'MLI',\n",
              " '13377': 'MLU',\n",
              " '13422': 'MOB',\n",
              " '13433': 'MOT',\n",
              " '13459': 'MQT',\n",
              " '13476': 'MRY',\n",
              " '13485': 'MSN',\n",
              " '13486': 'MSO',\n",
              " '13487': 'MSP',\n",
              " '13495': 'MSY',\n",
              " '13502': 'MTJ',\n",
              " '13541': 'MVY',\n",
              " '13577': 'MYR',\n",
              " '13795': 'OAJ',\n",
              " '13796': 'OAK',\n",
              " '13830': 'OGG',\n",
              " '13851': 'OKC',\n",
              " '13871': 'OMA',\n",
              " '13873': 'OME',\n",
              " '13891': 'ONT',\n",
              " '13930': 'ORD',\n",
              " '13931': 'ORF',\n",
              " '13933': 'ORH',\n",
              " '13964': 'OTH',\n",
              " '13970': 'OTZ',\n",
              " '14006': 'PAH',\n",
              " '14025': 'PBG',\n",
              " '14027': 'PBI',\n",
              " '14057': 'PDX',\n",
              " '14098': 'PHF',\n",
              " '14100': 'PHL',\n",
              " '14107': 'PHX',\n",
              " '14108': 'PIA',\n",
              " '14109': 'PIB',\n",
              " '14113': 'PIH',\n",
              " '14122': 'PIT',\n",
              " '14150': 'PLN',\n",
              " '14193': 'PNS',\n",
              " '14222': 'PPG',\n",
              " '14252': 'PSC',\n",
              " '14254': 'PSE',\n",
              " '14256': 'PSG',\n",
              " '14262': 'PSP',\n",
              " '14307': 'PVD',\n",
              " '14321': 'PWM',\n",
              " '14457': 'RAP',\n",
              " '14487': 'RDD',\n",
              " '14489': 'RDM',\n",
              " '14492': 'RDU',\n",
              " '14520': 'RHI',\n",
              " '14524': 'RIC',\n",
              " '14543': 'RKS',\n",
              " '14570': 'RNO',\n",
              " '14574': 'ROA',\n",
              " '14576': 'ROC',\n",
              " '14588': 'ROW',\n",
              " '14633': 'RST',\n",
              " '14635': 'RSW',\n",
              " '14674': 'SAF',\n",
              " '14679': 'SAN',\n",
              " '14683': 'SAT',\n",
              " '14685': 'SAV',\n",
              " '14689': 'SBA',\n",
              " '14696': 'SBN',\n",
              " '14698': 'SBP',\n",
              " '14709': 'SCC',\n",
              " '14711': 'SCE',\n",
              " '14730': 'SDF',\n",
              " '14747': 'SEA',\n",
              " '14771': 'SFO',\n",
              " '14783': 'SGF',\n",
              " '14794': 'SGU',\n",
              " '14814': 'SHV',\n",
              " '14828': 'SIT',\n",
              " '14831': 'SJC',\n",
              " '14842': 'SJT',\n",
              " '14843': 'SJU',\n",
              " '14869': 'SLC',\n",
              " '14893': 'SMF',\n",
              " '14905': 'SMX',\n",
              " '14908': 'SNA',\n",
              " '14952': 'SPI',\n",
              " '14960': 'SPS',\n",
              " '14986': 'SRQ',\n",
              " '15016': 'STL',\n",
              " '15024': 'STT',\n",
              " '15027': 'STX',\n",
              " '15041': 'SUN',\n",
              " '15048': 'SUX',\n",
              " '15070': 'SWF',\n",
              " '15096': 'SYR',\n",
              " '15249': 'TLH',\n",
              " '15295': 'TOL',\n",
              " '15304': 'TPA',\n",
              " '15323': 'TRI',\n",
              " '15356': 'TTN',\n",
              " '15370': 'TUL',\n",
              " '15376': 'TUS',\n",
              " '15380': 'TVC',\n",
              " '15389': 'TWF',\n",
              " '15401': 'TXK',\n",
              " '15411': 'TYR',\n",
              " '15412': 'TYS',\n",
              " '15497': 'UST',\n",
              " '15607': 'VLD',\n",
              " '15624': 'VPS',\n",
              " '15841': 'WRG',\n",
              " '15919': 'XNA',\n",
              " '15991': 'YAK',\n",
              " '16218': 'YUM'}"
            ]
          },
          "metadata": {},
          "execution_count": 43
        }
      ]
    },
    {
      "cell_type": "markdown",
      "source": [
        "# Zamiana symboli w lotach"
      ],
      "metadata": {
        "id": "IxlnlX8LpLHx"
      }
    },
    {
      "cell_type": "code",
      "source": [
        "df_flights.replace({\"ORIGIN_AIRPORT\": kody}, inplace=True)\n",
        "df_flights.replace({\"DESTINATION_AIRPORT\": kody}, inplace=True)\n",
        "df_flights.head()"
      ],
      "metadata": {
        "id": "x-svh44Bl2F3",
        "colab": {
          "base_uri": "https://localhost:8080/",
          "height": 270
        },
        "outputId": "51807924-0e91-4a30-ce60-39c1ad07574b"
      },
      "execution_count": null,
      "outputs": [
        {
          "output_type": "execute_result",
          "data": {
            "text/plain": [
              "   YEAR  MONTH  DAY  DAY_OF_WEEK AIRLINE  FLIGHT_NUMBER TAIL_NUMBER  \\\n",
              "0  2015      1    1            4      AS             98      N407AS   \n",
              "1  2015      1    1            4      AA           2336      N3KUAA   \n",
              "2  2015      1    1            4      US            840      N171US   \n",
              "3  2015      1    1            4      AA            258      N3HYAA   \n",
              "4  2015      1    1            4      AS            135      N527AS   \n",
              "\n",
              "  ORIGIN_AIRPORT DESTINATION_AIRPORT  SCHEDULED_DEPARTURE  DEPARTURE_TIME  \\\n",
              "0            ANC                 SEA                    5          2354.0   \n",
              "1            LAX                 PBI                   10             2.0   \n",
              "2            SFO                 CLT                   20            18.0   \n",
              "3            LAX                 MIA                   20            15.0   \n",
              "4            SEA                 ANC                   25            24.0   \n",
              "\n",
              "   DEPARTURE_DELAY  TAXI_OUT  WHEELS_OFF  SCHEDULED_TIME  ELAPSED_TIME  \\\n",
              "0            -11.0      21.0        15.0           205.0         194.0   \n",
              "1             -8.0      12.0        14.0           280.0         279.0   \n",
              "2             -2.0      16.0        34.0           286.0         293.0   \n",
              "3             -5.0      15.0        30.0           285.0         281.0   \n",
              "4             -1.0      11.0        35.0           235.0         215.0   \n",
              "\n",
              "   AIR_TIME  DISTANCE  WHEELS_ON  TAXI_IN  SCHEDULED_ARRIVAL  ARRIVAL_TIME  \\\n",
              "0     169.0      1448      404.0      4.0                430         408.0   \n",
              "1     263.0      2330      737.0      4.0                750         741.0   \n",
              "2     266.0      2296      800.0     11.0                806         811.0   \n",
              "3     258.0      2342      748.0      8.0                805         756.0   \n",
              "4     199.0      1448      254.0      5.0                320         259.0   \n",
              "\n",
              "   ARRIVAL_DELAY  DIVERTED  CANCELLED CANCELLATION_REASON  AIR_SYSTEM_DELAY  \\\n",
              "0          -22.0         0          0                 NaN               NaN   \n",
              "1           -9.0         0          0                 NaN               NaN   \n",
              "2            5.0         0          0                 NaN               NaN   \n",
              "3           -9.0         0          0                 NaN               NaN   \n",
              "4          -21.0         0          0                 NaN               NaN   \n",
              "\n",
              "   SECURITY_DELAY  AIRLINE_DELAY  LATE_AIRCRAFT_DELAY  WEATHER_DELAY  \n",
              "0             NaN            NaN                  NaN            NaN  \n",
              "1             NaN            NaN                  NaN            NaN  \n",
              "2             NaN            NaN                  NaN            NaN  \n",
              "3             NaN            NaN                  NaN            NaN  \n",
              "4             NaN            NaN                  NaN            NaN  "
            ],
            "text/html": [
              "\n",
              "  <div id=\"df-77751602-9929-4a52-a19c-31285dc89b95\">\n",
              "    <div class=\"colab-df-container\">\n",
              "      <div>\n",
              "<style scoped>\n",
              "    .dataframe tbody tr th:only-of-type {\n",
              "        vertical-align: middle;\n",
              "    }\n",
              "\n",
              "    .dataframe tbody tr th {\n",
              "        vertical-align: top;\n",
              "    }\n",
              "\n",
              "    .dataframe thead th {\n",
              "        text-align: right;\n",
              "    }\n",
              "</style>\n",
              "<table border=\"1\" class=\"dataframe\">\n",
              "  <thead>\n",
              "    <tr style=\"text-align: right;\">\n",
              "      <th></th>\n",
              "      <th>YEAR</th>\n",
              "      <th>MONTH</th>\n",
              "      <th>DAY</th>\n",
              "      <th>DAY_OF_WEEK</th>\n",
              "      <th>AIRLINE</th>\n",
              "      <th>FLIGHT_NUMBER</th>\n",
              "      <th>TAIL_NUMBER</th>\n",
              "      <th>ORIGIN_AIRPORT</th>\n",
              "      <th>DESTINATION_AIRPORT</th>\n",
              "      <th>SCHEDULED_DEPARTURE</th>\n",
              "      <th>DEPARTURE_TIME</th>\n",
              "      <th>DEPARTURE_DELAY</th>\n",
              "      <th>TAXI_OUT</th>\n",
              "      <th>WHEELS_OFF</th>\n",
              "      <th>SCHEDULED_TIME</th>\n",
              "      <th>ELAPSED_TIME</th>\n",
              "      <th>AIR_TIME</th>\n",
              "      <th>DISTANCE</th>\n",
              "      <th>WHEELS_ON</th>\n",
              "      <th>TAXI_IN</th>\n",
              "      <th>SCHEDULED_ARRIVAL</th>\n",
              "      <th>ARRIVAL_TIME</th>\n",
              "      <th>ARRIVAL_DELAY</th>\n",
              "      <th>DIVERTED</th>\n",
              "      <th>CANCELLED</th>\n",
              "      <th>CANCELLATION_REASON</th>\n",
              "      <th>AIR_SYSTEM_DELAY</th>\n",
              "      <th>SECURITY_DELAY</th>\n",
              "      <th>AIRLINE_DELAY</th>\n",
              "      <th>LATE_AIRCRAFT_DELAY</th>\n",
              "      <th>WEATHER_DELAY</th>\n",
              "    </tr>\n",
              "  </thead>\n",
              "  <tbody>\n",
              "    <tr>\n",
              "      <th>0</th>\n",
              "      <td>2015</td>\n",
              "      <td>1</td>\n",
              "      <td>1</td>\n",
              "      <td>4</td>\n",
              "      <td>AS</td>\n",
              "      <td>98</td>\n",
              "      <td>N407AS</td>\n",
              "      <td>ANC</td>\n",
              "      <td>SEA</td>\n",
              "      <td>5</td>\n",
              "      <td>2354.0</td>\n",
              "      <td>-11.0</td>\n",
              "      <td>21.0</td>\n",
              "      <td>15.0</td>\n",
              "      <td>205.0</td>\n",
              "      <td>194.0</td>\n",
              "      <td>169.0</td>\n",
              "      <td>1448</td>\n",
              "      <td>404.0</td>\n",
              "      <td>4.0</td>\n",
              "      <td>430</td>\n",
              "      <td>408.0</td>\n",
              "      <td>-22.0</td>\n",
              "      <td>0</td>\n",
              "      <td>0</td>\n",
              "      <td>NaN</td>\n",
              "      <td>NaN</td>\n",
              "      <td>NaN</td>\n",
              "      <td>NaN</td>\n",
              "      <td>NaN</td>\n",
              "      <td>NaN</td>\n",
              "    </tr>\n",
              "    <tr>\n",
              "      <th>1</th>\n",
              "      <td>2015</td>\n",
              "      <td>1</td>\n",
              "      <td>1</td>\n",
              "      <td>4</td>\n",
              "      <td>AA</td>\n",
              "      <td>2336</td>\n",
              "      <td>N3KUAA</td>\n",
              "      <td>LAX</td>\n",
              "      <td>PBI</td>\n",
              "      <td>10</td>\n",
              "      <td>2.0</td>\n",
              "      <td>-8.0</td>\n",
              "      <td>12.0</td>\n",
              "      <td>14.0</td>\n",
              "      <td>280.0</td>\n",
              "      <td>279.0</td>\n",
              "      <td>263.0</td>\n",
              "      <td>2330</td>\n",
              "      <td>737.0</td>\n",
              "      <td>4.0</td>\n",
              "      <td>750</td>\n",
              "      <td>741.0</td>\n",
              "      <td>-9.0</td>\n",
              "      <td>0</td>\n",
              "      <td>0</td>\n",
              "      <td>NaN</td>\n",
              "      <td>NaN</td>\n",
              "      <td>NaN</td>\n",
              "      <td>NaN</td>\n",
              "      <td>NaN</td>\n",
              "      <td>NaN</td>\n",
              "    </tr>\n",
              "    <tr>\n",
              "      <th>2</th>\n",
              "      <td>2015</td>\n",
              "      <td>1</td>\n",
              "      <td>1</td>\n",
              "      <td>4</td>\n",
              "      <td>US</td>\n",
              "      <td>840</td>\n",
              "      <td>N171US</td>\n",
              "      <td>SFO</td>\n",
              "      <td>CLT</td>\n",
              "      <td>20</td>\n",
              "      <td>18.0</td>\n",
              "      <td>-2.0</td>\n",
              "      <td>16.0</td>\n",
              "      <td>34.0</td>\n",
              "      <td>286.0</td>\n",
              "      <td>293.0</td>\n",
              "      <td>266.0</td>\n",
              "      <td>2296</td>\n",
              "      <td>800.0</td>\n",
              "      <td>11.0</td>\n",
              "      <td>806</td>\n",
              "      <td>811.0</td>\n",
              "      <td>5.0</td>\n",
              "      <td>0</td>\n",
              "      <td>0</td>\n",
              "      <td>NaN</td>\n",
              "      <td>NaN</td>\n",
              "      <td>NaN</td>\n",
              "      <td>NaN</td>\n",
              "      <td>NaN</td>\n",
              "      <td>NaN</td>\n",
              "    </tr>\n",
              "    <tr>\n",
              "      <th>3</th>\n",
              "      <td>2015</td>\n",
              "      <td>1</td>\n",
              "      <td>1</td>\n",
              "      <td>4</td>\n",
              "      <td>AA</td>\n",
              "      <td>258</td>\n",
              "      <td>N3HYAA</td>\n",
              "      <td>LAX</td>\n",
              "      <td>MIA</td>\n",
              "      <td>20</td>\n",
              "      <td>15.0</td>\n",
              "      <td>-5.0</td>\n",
              "      <td>15.0</td>\n",
              "      <td>30.0</td>\n",
              "      <td>285.0</td>\n",
              "      <td>281.0</td>\n",
              "      <td>258.0</td>\n",
              "      <td>2342</td>\n",
              "      <td>748.0</td>\n",
              "      <td>8.0</td>\n",
              "      <td>805</td>\n",
              "      <td>756.0</td>\n",
              "      <td>-9.0</td>\n",
              "      <td>0</td>\n",
              "      <td>0</td>\n",
              "      <td>NaN</td>\n",
              "      <td>NaN</td>\n",
              "      <td>NaN</td>\n",
              "      <td>NaN</td>\n",
              "      <td>NaN</td>\n",
              "      <td>NaN</td>\n",
              "    </tr>\n",
              "    <tr>\n",
              "      <th>4</th>\n",
              "      <td>2015</td>\n",
              "      <td>1</td>\n",
              "      <td>1</td>\n",
              "      <td>4</td>\n",
              "      <td>AS</td>\n",
              "      <td>135</td>\n",
              "      <td>N527AS</td>\n",
              "      <td>SEA</td>\n",
              "      <td>ANC</td>\n",
              "      <td>25</td>\n",
              "      <td>24.0</td>\n",
              "      <td>-1.0</td>\n",
              "      <td>11.0</td>\n",
              "      <td>35.0</td>\n",
              "      <td>235.0</td>\n",
              "      <td>215.0</td>\n",
              "      <td>199.0</td>\n",
              "      <td>1448</td>\n",
              "      <td>254.0</td>\n",
              "      <td>5.0</td>\n",
              "      <td>320</td>\n",
              "      <td>259.0</td>\n",
              "      <td>-21.0</td>\n",
              "      <td>0</td>\n",
              "      <td>0</td>\n",
              "      <td>NaN</td>\n",
              "      <td>NaN</td>\n",
              "      <td>NaN</td>\n",
              "      <td>NaN</td>\n",
              "      <td>NaN</td>\n",
              "      <td>NaN</td>\n",
              "    </tr>\n",
              "  </tbody>\n",
              "</table>\n",
              "</div>\n",
              "      <button class=\"colab-df-convert\" onclick=\"convertToInteractive('df-77751602-9929-4a52-a19c-31285dc89b95')\"\n",
              "              title=\"Convert this dataframe to an interactive table.\"\n",
              "              style=\"display:none;\">\n",
              "        \n",
              "  <svg xmlns=\"http://www.w3.org/2000/svg\" height=\"24px\"viewBox=\"0 0 24 24\"\n",
              "       width=\"24px\">\n",
              "    <path d=\"M0 0h24v24H0V0z\" fill=\"none\"/>\n",
              "    <path d=\"M18.56 5.44l.94 2.06.94-2.06 2.06-.94-2.06-.94-.94-2.06-.94 2.06-2.06.94zm-11 1L8.5 8.5l.94-2.06 2.06-.94-2.06-.94L8.5 2.5l-.94 2.06-2.06.94zm10 10l.94 2.06.94-2.06 2.06-.94-2.06-.94-.94-2.06-.94 2.06-2.06.94z\"/><path d=\"M17.41 7.96l-1.37-1.37c-.4-.4-.92-.59-1.43-.59-.52 0-1.04.2-1.43.59L10.3 9.45l-7.72 7.72c-.78.78-.78 2.05 0 2.83L4 21.41c.39.39.9.59 1.41.59.51 0 1.02-.2 1.41-.59l7.78-7.78 2.81-2.81c.8-.78.8-2.07 0-2.86zM5.41 20L4 18.59l7.72-7.72 1.47 1.35L5.41 20z\"/>\n",
              "  </svg>\n",
              "      </button>\n",
              "      \n",
              "  <style>\n",
              "    .colab-df-container {\n",
              "      display:flex;\n",
              "      flex-wrap:wrap;\n",
              "      gap: 12px;\n",
              "    }\n",
              "\n",
              "    .colab-df-convert {\n",
              "      background-color: #E8F0FE;\n",
              "      border: none;\n",
              "      border-radius: 50%;\n",
              "      cursor: pointer;\n",
              "      display: none;\n",
              "      fill: #1967D2;\n",
              "      height: 32px;\n",
              "      padding: 0 0 0 0;\n",
              "      width: 32px;\n",
              "    }\n",
              "\n",
              "    .colab-df-convert:hover {\n",
              "      background-color: #E2EBFA;\n",
              "      box-shadow: 0px 1px 2px rgba(60, 64, 67, 0.3), 0px 1px 3px 1px rgba(60, 64, 67, 0.15);\n",
              "      fill: #174EA6;\n",
              "    }\n",
              "\n",
              "    [theme=dark] .colab-df-convert {\n",
              "      background-color: #3B4455;\n",
              "      fill: #D2E3FC;\n",
              "    }\n",
              "\n",
              "    [theme=dark] .colab-df-convert:hover {\n",
              "      background-color: #434B5C;\n",
              "      box-shadow: 0px 1px 3px 1px rgba(0, 0, 0, 0.15);\n",
              "      filter: drop-shadow(0px 1px 2px rgba(0, 0, 0, 0.3));\n",
              "      fill: #FFFFFF;\n",
              "    }\n",
              "  </style>\n",
              "\n",
              "      <script>\n",
              "        const buttonEl =\n",
              "          document.querySelector('#df-77751602-9929-4a52-a19c-31285dc89b95 button.colab-df-convert');\n",
              "        buttonEl.style.display =\n",
              "          google.colab.kernel.accessAllowed ? 'block' : 'none';\n",
              "\n",
              "        async function convertToInteractive(key) {\n",
              "          const element = document.querySelector('#df-77751602-9929-4a52-a19c-31285dc89b95');\n",
              "          const dataTable =\n",
              "            await google.colab.kernel.invokeFunction('convertToInteractive',\n",
              "                                                     [key], {});\n",
              "          if (!dataTable) return;\n",
              "\n",
              "          const docLinkHtml = 'Like what you see? Visit the ' +\n",
              "            '<a target=\"_blank\" href=https://colab.research.google.com/notebooks/data_table.ipynb>data table notebook</a>'\n",
              "            + ' to learn more about interactive tables.';\n",
              "          element.innerHTML = '';\n",
              "          dataTable['output_type'] = 'display_data';\n",
              "          await google.colab.output.renderOutput(dataTable, element);\n",
              "          const docLink = document.createElement('div');\n",
              "          docLink.innerHTML = docLinkHtml;\n",
              "          element.appendChild(docLink);\n",
              "        }\n",
              "      </script>\n",
              "    </div>\n",
              "  </div>\n",
              "  "
            ]
          },
          "metadata": {},
          "execution_count": 44
        }
      ]
    },
    {
      "cell_type": "code",
      "source": [
        "# sprawdzenie czy pozostały loty z lotniskami opisanymi kodami 5-cyfrowymi\n",
        "fo = df_flights['ORIGIN_AIRPORT'].str.len()>3\n",
        "fd = df_flights['DESTINATION_AIRPORT'].str.len()>3\n",
        "\n",
        "len(df_flights[fo | fd])"
      ],
      "metadata": {
        "id": "l5B5knNEd-SN",
        "colab": {
          "base_uri": "https://localhost:8080/"
        },
        "outputId": "e1a58578-d5fe-4cdc-b997-b2df01951ec6"
      },
      "execution_count": null,
      "outputs": [
        {
          "output_type": "execute_result",
          "data": {
            "text/plain": [
              "0"
            ]
          },
          "metadata": {},
          "execution_count": 45
        }
      ]
    },
    {
      "cell_type": "markdown",
      "source": [
        "# Połączenie tabel"
      ],
      "metadata": {
        "id": "sJS39nhdo2QL"
      }
    },
    {
      "cell_type": "code",
      "source": [
        "# połączenie wg ORIGIN_AIRPORT\n",
        "df_m = df_flights.merge(df_airports[['IATA_CODE', 'LATITUDE', 'LONGITUDE']], how='left', left_on='ORIGIN_AIRPORT', right_on='IATA_CODE')"
      ],
      "metadata": {
        "id": "2z-pOHGAn6oL"
      },
      "execution_count": null,
      "outputs": []
    },
    {
      "cell_type": "code",
      "source": [
        "df_m.drop(columns=['IATA_CODE'], inplace=True)\n",
        "df_m.rename(columns={'LATITUDE': 'O_LATITUDE', 'LONGITUDE': 'O_LONGITUDE'}, inplace=True)\n",
        "df_m.head()"
      ],
      "metadata": {
        "id": "c9VJT7d5n6jk"
      },
      "execution_count": null,
      "outputs": []
    },
    {
      "cell_type": "code",
      "source": [
        "# połączenie wg DESTINATION_AIRPORT\n",
        "df_m = df_m.merge(df_airports[['IATA_CODE', 'LATITUDE', 'LONGITUDE']], how='left', left_on='DESTINATION_AIRPORT', right_on='IATA_CODE')"
      ],
      "metadata": {
        "id": "NuLdNcBTn6ea"
      },
      "execution_count": null,
      "outputs": []
    },
    {
      "cell_type": "code",
      "source": [
        "df_m.drop(columns=['IATA_CODE'], inplace=True)\n",
        "df_m.rename(columns={'LATITUDE': 'D_LATITUDE', 'LONGITUDE': 'D_LONGITUDE'}, inplace=True)\n",
        "df_m.head()"
      ],
      "metadata": {
        "id": "oHVSA_G0u4Y1",
        "colab": {
          "base_uri": "https://localhost:8080/",
          "height": 270
        },
        "outputId": "b5ccf6ae-aa39-4655-99a9-44c8f1496a09"
      },
      "execution_count": null,
      "outputs": [
        {
          "output_type": "execute_result",
          "data": {
            "text/plain": [
              "   YEAR  MONTH  DAY  DAY_OF_WEEK AIRLINE  FLIGHT_NUMBER TAIL_NUMBER  \\\n",
              "0  2015      1    1            4      AS             98      N407AS   \n",
              "1  2015      1    1            4      AA           2336      N3KUAA   \n",
              "2  2015      1    1            4      US            840      N171US   \n",
              "3  2015      1    1            4      AA            258      N3HYAA   \n",
              "4  2015      1    1            4      AS            135      N527AS   \n",
              "\n",
              "  ORIGIN_AIRPORT DESTINATION_AIRPORT  SCHEDULED_DEPARTURE  DEPARTURE_TIME  \\\n",
              "0            ANC                 SEA                    5          2354.0   \n",
              "1            LAX                 PBI                   10             2.0   \n",
              "2            SFO                 CLT                   20            18.0   \n",
              "3            LAX                 MIA                   20            15.0   \n",
              "4            SEA                 ANC                   25            24.0   \n",
              "\n",
              "   DEPARTURE_DELAY  TAXI_OUT  WHEELS_OFF  SCHEDULED_TIME  ELAPSED_TIME  \\\n",
              "0            -11.0      21.0        15.0           205.0         194.0   \n",
              "1             -8.0      12.0        14.0           280.0         279.0   \n",
              "2             -2.0      16.0        34.0           286.0         293.0   \n",
              "3             -5.0      15.0        30.0           285.0         281.0   \n",
              "4             -1.0      11.0        35.0           235.0         215.0   \n",
              "\n",
              "   AIR_TIME  DISTANCE  WHEELS_ON  TAXI_IN  SCHEDULED_ARRIVAL  ARRIVAL_TIME  \\\n",
              "0     169.0      1448      404.0      4.0                430         408.0   \n",
              "1     263.0      2330      737.0      4.0                750         741.0   \n",
              "2     266.0      2296      800.0     11.0                806         811.0   \n",
              "3     258.0      2342      748.0      8.0                805         756.0   \n",
              "4     199.0      1448      254.0      5.0                320         259.0   \n",
              "\n",
              "   ARRIVAL_DELAY  DIVERTED  CANCELLED CANCELLATION_REASON  AIR_SYSTEM_DELAY  \\\n",
              "0          -22.0         0          0                 NaN               NaN   \n",
              "1           -9.0         0          0                 NaN               NaN   \n",
              "2            5.0         0          0                 NaN               NaN   \n",
              "3           -9.0         0          0                 NaN               NaN   \n",
              "4          -21.0         0          0                 NaN               NaN   \n",
              "\n",
              "   SECURITY_DELAY  AIRLINE_DELAY  LATE_AIRCRAFT_DELAY  WEATHER_DELAY  \\\n",
              "0             NaN            NaN                  NaN            NaN   \n",
              "1             NaN            NaN                  NaN            NaN   \n",
              "2             NaN            NaN                  NaN            NaN   \n",
              "3             NaN            NaN                  NaN            NaN   \n",
              "4             NaN            NaN                  NaN            NaN   \n",
              "\n",
              "   O_LATITUDE  O_LONGITUDE  D_LATITUDE  D_LONGITUDE  \n",
              "0    61.17432   -149.99619    47.44898   -122.30931  \n",
              "1    33.94254   -118.40807    26.68316    -80.09559  \n",
              "2    37.61900   -122.37484    35.21401    -80.94313  \n",
              "3    33.94254   -118.40807    25.79325    -80.29056  \n",
              "4    47.44898   -122.30931    61.17432   -149.99619  "
            ],
            "text/html": [
              "\n",
              "  <div id=\"df-c424433c-58f0-4bcf-a1f0-65473eaa3ef4\">\n",
              "    <div class=\"colab-df-container\">\n",
              "      <div>\n",
              "<style scoped>\n",
              "    .dataframe tbody tr th:only-of-type {\n",
              "        vertical-align: middle;\n",
              "    }\n",
              "\n",
              "    .dataframe tbody tr th {\n",
              "        vertical-align: top;\n",
              "    }\n",
              "\n",
              "    .dataframe thead th {\n",
              "        text-align: right;\n",
              "    }\n",
              "</style>\n",
              "<table border=\"1\" class=\"dataframe\">\n",
              "  <thead>\n",
              "    <tr style=\"text-align: right;\">\n",
              "      <th></th>\n",
              "      <th>YEAR</th>\n",
              "      <th>MONTH</th>\n",
              "      <th>DAY</th>\n",
              "      <th>DAY_OF_WEEK</th>\n",
              "      <th>AIRLINE</th>\n",
              "      <th>FLIGHT_NUMBER</th>\n",
              "      <th>TAIL_NUMBER</th>\n",
              "      <th>ORIGIN_AIRPORT</th>\n",
              "      <th>DESTINATION_AIRPORT</th>\n",
              "      <th>SCHEDULED_DEPARTURE</th>\n",
              "      <th>DEPARTURE_TIME</th>\n",
              "      <th>DEPARTURE_DELAY</th>\n",
              "      <th>TAXI_OUT</th>\n",
              "      <th>WHEELS_OFF</th>\n",
              "      <th>SCHEDULED_TIME</th>\n",
              "      <th>ELAPSED_TIME</th>\n",
              "      <th>AIR_TIME</th>\n",
              "      <th>DISTANCE</th>\n",
              "      <th>WHEELS_ON</th>\n",
              "      <th>TAXI_IN</th>\n",
              "      <th>SCHEDULED_ARRIVAL</th>\n",
              "      <th>ARRIVAL_TIME</th>\n",
              "      <th>ARRIVAL_DELAY</th>\n",
              "      <th>DIVERTED</th>\n",
              "      <th>CANCELLED</th>\n",
              "      <th>CANCELLATION_REASON</th>\n",
              "      <th>AIR_SYSTEM_DELAY</th>\n",
              "      <th>SECURITY_DELAY</th>\n",
              "      <th>AIRLINE_DELAY</th>\n",
              "      <th>LATE_AIRCRAFT_DELAY</th>\n",
              "      <th>WEATHER_DELAY</th>\n",
              "      <th>O_LATITUDE</th>\n",
              "      <th>O_LONGITUDE</th>\n",
              "      <th>D_LATITUDE</th>\n",
              "      <th>D_LONGITUDE</th>\n",
              "    </tr>\n",
              "  </thead>\n",
              "  <tbody>\n",
              "    <tr>\n",
              "      <th>0</th>\n",
              "      <td>2015</td>\n",
              "      <td>1</td>\n",
              "      <td>1</td>\n",
              "      <td>4</td>\n",
              "      <td>AS</td>\n",
              "      <td>98</td>\n",
              "      <td>N407AS</td>\n",
              "      <td>ANC</td>\n",
              "      <td>SEA</td>\n",
              "      <td>5</td>\n",
              "      <td>2354.0</td>\n",
              "      <td>-11.0</td>\n",
              "      <td>21.0</td>\n",
              "      <td>15.0</td>\n",
              "      <td>205.0</td>\n",
              "      <td>194.0</td>\n",
              "      <td>169.0</td>\n",
              "      <td>1448</td>\n",
              "      <td>404.0</td>\n",
              "      <td>4.0</td>\n",
              "      <td>430</td>\n",
              "      <td>408.0</td>\n",
              "      <td>-22.0</td>\n",
              "      <td>0</td>\n",
              "      <td>0</td>\n",
              "      <td>NaN</td>\n",
              "      <td>NaN</td>\n",
              "      <td>NaN</td>\n",
              "      <td>NaN</td>\n",
              "      <td>NaN</td>\n",
              "      <td>NaN</td>\n",
              "      <td>61.17432</td>\n",
              "      <td>-149.99619</td>\n",
              "      <td>47.44898</td>\n",
              "      <td>-122.30931</td>\n",
              "    </tr>\n",
              "    <tr>\n",
              "      <th>1</th>\n",
              "      <td>2015</td>\n",
              "      <td>1</td>\n",
              "      <td>1</td>\n",
              "      <td>4</td>\n",
              "      <td>AA</td>\n",
              "      <td>2336</td>\n",
              "      <td>N3KUAA</td>\n",
              "      <td>LAX</td>\n",
              "      <td>PBI</td>\n",
              "      <td>10</td>\n",
              "      <td>2.0</td>\n",
              "      <td>-8.0</td>\n",
              "      <td>12.0</td>\n",
              "      <td>14.0</td>\n",
              "      <td>280.0</td>\n",
              "      <td>279.0</td>\n",
              "      <td>263.0</td>\n",
              "      <td>2330</td>\n",
              "      <td>737.0</td>\n",
              "      <td>4.0</td>\n",
              "      <td>750</td>\n",
              "      <td>741.0</td>\n",
              "      <td>-9.0</td>\n",
              "      <td>0</td>\n",
              "      <td>0</td>\n",
              "      <td>NaN</td>\n",
              "      <td>NaN</td>\n",
              "      <td>NaN</td>\n",
              "      <td>NaN</td>\n",
              "      <td>NaN</td>\n",
              "      <td>NaN</td>\n",
              "      <td>33.94254</td>\n",
              "      <td>-118.40807</td>\n",
              "      <td>26.68316</td>\n",
              "      <td>-80.09559</td>\n",
              "    </tr>\n",
              "    <tr>\n",
              "      <th>2</th>\n",
              "      <td>2015</td>\n",
              "      <td>1</td>\n",
              "      <td>1</td>\n",
              "      <td>4</td>\n",
              "      <td>US</td>\n",
              "      <td>840</td>\n",
              "      <td>N171US</td>\n",
              "      <td>SFO</td>\n",
              "      <td>CLT</td>\n",
              "      <td>20</td>\n",
              "      <td>18.0</td>\n",
              "      <td>-2.0</td>\n",
              "      <td>16.0</td>\n",
              "      <td>34.0</td>\n",
              "      <td>286.0</td>\n",
              "      <td>293.0</td>\n",
              "      <td>266.0</td>\n",
              "      <td>2296</td>\n",
              "      <td>800.0</td>\n",
              "      <td>11.0</td>\n",
              "      <td>806</td>\n",
              "      <td>811.0</td>\n",
              "      <td>5.0</td>\n",
              "      <td>0</td>\n",
              "      <td>0</td>\n",
              "      <td>NaN</td>\n",
              "      <td>NaN</td>\n",
              "      <td>NaN</td>\n",
              "      <td>NaN</td>\n",
              "      <td>NaN</td>\n",
              "      <td>NaN</td>\n",
              "      <td>37.61900</td>\n",
              "      <td>-122.37484</td>\n",
              "      <td>35.21401</td>\n",
              "      <td>-80.94313</td>\n",
              "    </tr>\n",
              "    <tr>\n",
              "      <th>3</th>\n",
              "      <td>2015</td>\n",
              "      <td>1</td>\n",
              "      <td>1</td>\n",
              "      <td>4</td>\n",
              "      <td>AA</td>\n",
              "      <td>258</td>\n",
              "      <td>N3HYAA</td>\n",
              "      <td>LAX</td>\n",
              "      <td>MIA</td>\n",
              "      <td>20</td>\n",
              "      <td>15.0</td>\n",
              "      <td>-5.0</td>\n",
              "      <td>15.0</td>\n",
              "      <td>30.0</td>\n",
              "      <td>285.0</td>\n",
              "      <td>281.0</td>\n",
              "      <td>258.0</td>\n",
              "      <td>2342</td>\n",
              "      <td>748.0</td>\n",
              "      <td>8.0</td>\n",
              "      <td>805</td>\n",
              "      <td>756.0</td>\n",
              "      <td>-9.0</td>\n",
              "      <td>0</td>\n",
              "      <td>0</td>\n",
              "      <td>NaN</td>\n",
              "      <td>NaN</td>\n",
              "      <td>NaN</td>\n",
              "      <td>NaN</td>\n",
              "      <td>NaN</td>\n",
              "      <td>NaN</td>\n",
              "      <td>33.94254</td>\n",
              "      <td>-118.40807</td>\n",
              "      <td>25.79325</td>\n",
              "      <td>-80.29056</td>\n",
              "    </tr>\n",
              "    <tr>\n",
              "      <th>4</th>\n",
              "      <td>2015</td>\n",
              "      <td>1</td>\n",
              "      <td>1</td>\n",
              "      <td>4</td>\n",
              "      <td>AS</td>\n",
              "      <td>135</td>\n",
              "      <td>N527AS</td>\n",
              "      <td>SEA</td>\n",
              "      <td>ANC</td>\n",
              "      <td>25</td>\n",
              "      <td>24.0</td>\n",
              "      <td>-1.0</td>\n",
              "      <td>11.0</td>\n",
              "      <td>35.0</td>\n",
              "      <td>235.0</td>\n",
              "      <td>215.0</td>\n",
              "      <td>199.0</td>\n",
              "      <td>1448</td>\n",
              "      <td>254.0</td>\n",
              "      <td>5.0</td>\n",
              "      <td>320</td>\n",
              "      <td>259.0</td>\n",
              "      <td>-21.0</td>\n",
              "      <td>0</td>\n",
              "      <td>0</td>\n",
              "      <td>NaN</td>\n",
              "      <td>NaN</td>\n",
              "      <td>NaN</td>\n",
              "      <td>NaN</td>\n",
              "      <td>NaN</td>\n",
              "      <td>NaN</td>\n",
              "      <td>47.44898</td>\n",
              "      <td>-122.30931</td>\n",
              "      <td>61.17432</td>\n",
              "      <td>-149.99619</td>\n",
              "    </tr>\n",
              "  </tbody>\n",
              "</table>\n",
              "</div>\n",
              "      <button class=\"colab-df-convert\" onclick=\"convertToInteractive('df-c424433c-58f0-4bcf-a1f0-65473eaa3ef4')\"\n",
              "              title=\"Convert this dataframe to an interactive table.\"\n",
              "              style=\"display:none;\">\n",
              "        \n",
              "  <svg xmlns=\"http://www.w3.org/2000/svg\" height=\"24px\"viewBox=\"0 0 24 24\"\n",
              "       width=\"24px\">\n",
              "    <path d=\"M0 0h24v24H0V0z\" fill=\"none\"/>\n",
              "    <path d=\"M18.56 5.44l.94 2.06.94-2.06 2.06-.94-2.06-.94-.94-2.06-.94 2.06-2.06.94zm-11 1L8.5 8.5l.94-2.06 2.06-.94-2.06-.94L8.5 2.5l-.94 2.06-2.06.94zm10 10l.94 2.06.94-2.06 2.06-.94-2.06-.94-.94-2.06-.94 2.06-2.06.94z\"/><path d=\"M17.41 7.96l-1.37-1.37c-.4-.4-.92-.59-1.43-.59-.52 0-1.04.2-1.43.59L10.3 9.45l-7.72 7.72c-.78.78-.78 2.05 0 2.83L4 21.41c.39.39.9.59 1.41.59.51 0 1.02-.2 1.41-.59l7.78-7.78 2.81-2.81c.8-.78.8-2.07 0-2.86zM5.41 20L4 18.59l7.72-7.72 1.47 1.35L5.41 20z\"/>\n",
              "  </svg>\n",
              "      </button>\n",
              "      \n",
              "  <style>\n",
              "    .colab-df-container {\n",
              "      display:flex;\n",
              "      flex-wrap:wrap;\n",
              "      gap: 12px;\n",
              "    }\n",
              "\n",
              "    .colab-df-convert {\n",
              "      background-color: #E8F0FE;\n",
              "      border: none;\n",
              "      border-radius: 50%;\n",
              "      cursor: pointer;\n",
              "      display: none;\n",
              "      fill: #1967D2;\n",
              "      height: 32px;\n",
              "      padding: 0 0 0 0;\n",
              "      width: 32px;\n",
              "    }\n",
              "\n",
              "    .colab-df-convert:hover {\n",
              "      background-color: #E2EBFA;\n",
              "      box-shadow: 0px 1px 2px rgba(60, 64, 67, 0.3), 0px 1px 3px 1px rgba(60, 64, 67, 0.15);\n",
              "      fill: #174EA6;\n",
              "    }\n",
              "\n",
              "    [theme=dark] .colab-df-convert {\n",
              "      background-color: #3B4455;\n",
              "      fill: #D2E3FC;\n",
              "    }\n",
              "\n",
              "    [theme=dark] .colab-df-convert:hover {\n",
              "      background-color: #434B5C;\n",
              "      box-shadow: 0px 1px 3px 1px rgba(0, 0, 0, 0.15);\n",
              "      filter: drop-shadow(0px 1px 2px rgba(0, 0, 0, 0.3));\n",
              "      fill: #FFFFFF;\n",
              "    }\n",
              "  </style>\n",
              "\n",
              "      <script>\n",
              "        const buttonEl =\n",
              "          document.querySelector('#df-c424433c-58f0-4bcf-a1f0-65473eaa3ef4 button.colab-df-convert');\n",
              "        buttonEl.style.display =\n",
              "          google.colab.kernel.accessAllowed ? 'block' : 'none';\n",
              "\n",
              "        async function convertToInteractive(key) {\n",
              "          const element = document.querySelector('#df-c424433c-58f0-4bcf-a1f0-65473eaa3ef4');\n",
              "          const dataTable =\n",
              "            await google.colab.kernel.invokeFunction('convertToInteractive',\n",
              "                                                     [key], {});\n",
              "          if (!dataTable) return;\n",
              "\n",
              "          const docLinkHtml = 'Like what you see? Visit the ' +\n",
              "            '<a target=\"_blank\" href=https://colab.research.google.com/notebooks/data_table.ipynb>data table notebook</a>'\n",
              "            + ' to learn more about interactive tables.';\n",
              "          element.innerHTML = '';\n",
              "          dataTable['output_type'] = 'display_data';\n",
              "          await google.colab.output.renderOutput(dataTable, element);\n",
              "          const docLink = document.createElement('div');\n",
              "          docLink.innerHTML = docLinkHtml;\n",
              "          element.appendChild(docLink);\n",
              "        }\n",
              "      </script>\n",
              "    </div>\n",
              "  </div>\n",
              "  "
            ]
          },
          "metadata": {},
          "execution_count": 49
        }
      ]
    },
    {
      "cell_type": "code",
      "source": [
        "df_m.isna().sum()"
      ],
      "metadata": {
        "id": "Qpvsima3yelF",
        "colab": {
          "base_uri": "https://localhost:8080/"
        },
        "outputId": "820daa13-c43d-405c-a8de-c24cb1db1f10"
      },
      "execution_count": null,
      "outputs": [
        {
          "output_type": "execute_result",
          "data": {
            "text/plain": [
              "YEAR                         0\n",
              "MONTH                        0\n",
              "DAY                          0\n",
              "DAY_OF_WEEK                  0\n",
              "AIRLINE                      0\n",
              "FLIGHT_NUMBER                0\n",
              "TAIL_NUMBER              14721\n",
              "ORIGIN_AIRPORT               0\n",
              "DESTINATION_AIRPORT          0\n",
              "SCHEDULED_DEPARTURE          0\n",
              "DEPARTURE_TIME           86153\n",
              "DEPARTURE_DELAY          86153\n",
              "TAXI_OUT                 89047\n",
              "WHEELS_OFF               89047\n",
              "SCHEDULED_TIME               6\n",
              "ELAPSED_TIME            105071\n",
              "AIR_TIME                105071\n",
              "DISTANCE                     0\n",
              "WHEELS_ON                92513\n",
              "TAXI_IN                  92513\n",
              "SCHEDULED_ARRIVAL            0\n",
              "ARRIVAL_TIME             92513\n",
              "ARRIVAL_DELAY           105071\n",
              "DIVERTED                     0\n",
              "CANCELLED                    0\n",
              "CANCELLATION_REASON    5729195\n",
              "AIR_SYSTEM_DELAY       4755640\n",
              "SECURITY_DELAY         4755640\n",
              "AIRLINE_DELAY          4755640\n",
              "LATE_AIRCRAFT_DELAY    4755640\n",
              "WEATHER_DELAY          4755640\n",
              "O_LATITUDE                9029\n",
              "O_LONGITUDE               9029\n",
              "D_LATITUDE                9026\n",
              "D_LONGITUDE               9026\n",
              "dtype: int64"
            ]
          },
          "metadata": {},
          "execution_count": 50
        }
      ]
    },
    {
      "cell_type": "code",
      "source": [
        "# zapis do pliku\n",
        "if ALL_COLS:\n",
        "  df_m.to_csv('/content/drive/MyDrive/df_flights_all.csv', index=False)\n",
        "else:\n",
        "  df_m.to_csv('/content/drive/MyDrive/df_flights_sel.csv', index=False)"
      ],
      "metadata": {
        "id": "Z9uG198hyeX7"
      },
      "execution_count": null,
      "outputs": []
    }
  ]
}